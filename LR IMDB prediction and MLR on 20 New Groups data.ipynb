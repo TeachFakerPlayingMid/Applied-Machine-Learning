{
  "nbformat": 4,
  "nbformat_minor": 0,
  "metadata": {
    "colab": {
      "provenance": [],
      "collapsed_sections": [
        "eMkCmt-I5QGW",
        "zu4j7NLJ5gXM",
        "pjGFtWVnQjaM",
        "LF7OZD-fiN2y",
        "c98qQCz3R-su",
        "MqD0SLn5Hce9",
        "iST1iW2J1fRE"
      ]
    },
    "kernelspec": {
      "name": "python3",
      "display_name": "Python 3"
    },
    "language_info": {
      "name": "python"
    }
  },
  "cells": [
    {
      "cell_type": "code",
      "source": [
        "import pandas as pd\n",
        "import csv\n",
        "import numpy as np\n",
        "from sklearn.datasets import load_svmlight_file\n",
        "from scipy.sparse import csr_matrix\n",
        "\n",
        "from google.colab import drive\n",
        "drive.mount('/content/gdrive')\n",
        "\n",
        "\n",
        "home_dir = \"/content/gdrive/MyDrive/Colab Notebooks/COMP_551Assignment2/\""
      ],
      "metadata": {
        "id": "nYYZb9tBtuNQ",
        "colab": {
          "base_uri": "https://localhost:8080/"
        },
        "outputId": "298cbcdd-f1ac-4dfc-9729-f49f8448ffe5"
      },
      "execution_count": 66,
      "outputs": [
        {
          "output_type": "stream",
          "name": "stdout",
          "text": [
            "Drive already mounted at /content/gdrive; to attempt to forcibly remount, call drive.mount(\"/content/gdrive\", force_remount=True).\n"
          ]
        }
      ]
    },
    {
      "cell_type": "markdown",
      "source": [
        "\n",
        "1. Implement and evaluate Logistic Regression on the IMDB data\n",
        "2. Implementing and evaluate the Multiclass Regression on the 4-class prediction from the 20-news-group data"
      ],
      "metadata": {
        "id": "0WFwLSTaxHXy"
      }
    },
    {
      "cell_type": "markdown",
      "source": [
        "# Implement and evaluate Logistic Regression on the IMDB data"
      ],
      "metadata": {
        "id": "TOAziwk-G6rX"
      }
    },
    {
      "cell_type": "markdown",
      "source": [
        "## Data Processing on IMDB Reviews data"
      ],
      "metadata": {
        "id": "3_zu0pd15ZqI"
      }
    },
    {
      "cell_type": "markdown",
      "source": [
        "###  filter out words\n",
        "\n",
        "*   labeledBow.feat: \n",
        "\n",
        "rating_for_review0 (word_indice0:frequency0),(word_indice1:frequency1),...\n",
        "\n",
        "rating_for_review1 (word_indice0:frequency0),(word_indice1:frequency1),...\n",
        "\n",
        "...\n",
        "\n",
        "*  imdb.vocab:\n",
        "\n",
        "all our features"
      ],
      "metadata": {
        "id": "eMkCmt-I5QGW"
      }
    },
    {
      "cell_type": "code",
      "source": [
        "'''load data'''\n",
        "data_dir = home_dir + \"aclImdb/train/labeledBow.feat\"\n",
        "X,Y = load_svmlight_file(data_dir, multilabel = False, zero_based = True)\n",
        "# print(X[:,1]) # :,n -> nth feature in all reviews\n",
        "\n",
        "# print(type(X))\n",
        "'''group by features and get occurences'''\n",
        "ind = X.indices\n",
        "ind_series = pd.Series(ind, name='index')\n",
        "ind_gp = ind_series.groupby(lambda x: ind_series[x])\n",
        "ind_gp_df = ind_gp.count().to_frame(name='occurence')\n",
        "ind_gp_df.insert(loc=0, column='feature', value=np.arange(len(ind_gp_df)))\n",
        "#ind_gp_df\n",
        "Y"
      ],
      "metadata": {
        "id": "s1UyBPyirWsy",
        "colab": {
          "base_uri": "https://localhost:8080/"
        },
        "outputId": "3e9acfb5-2f91-4972-b5d8-fe967032fa25"
      },
      "execution_count": 67,
      "outputs": [
        {
          "output_type": "execute_result",
          "data": {
            "text/plain": [
              "array([9., 7., 9., ..., 4., 2., 2.])"
            ]
          },
          "metadata": {},
          "execution_count": 67
        }
      ]
    },
    {
      "cell_type": "code",
      "source": [
        "'''filter by occurence'''\n",
        "filtered = ind_gp_df[(ind_gp_df['occurence'] > 250) & (ind_gp_df['occurence'] < 12500)]\n",
        "indices = filtered['feature'].values\n",
        "indices\n",
        "# print(type(indices))"
      ],
      "metadata": {
        "id": "iLOyy1bcj7Ye",
        "colab": {
          "base_uri": "https://localhost:8080/"
        },
        "outputId": "08fe7b4b-4d89-493a-8202-ce5563c0d09b"
      },
      "execution_count": 68,
      "outputs": [
        {
          "output_type": "execute_result",
          "data": {
            "text/plain": [
              "array([  21,   23,   27, ..., 1933, 1935, 1938])"
            ]
          },
          "metadata": {},
          "execution_count": 68
        }
      ]
    },
    {
      "cell_type": "markdown",
      "source": [
        "### choose the top D"
      ],
      "metadata": {
        "id": "zu4j7NLJ5gXM"
      }
    },
    {
      "cell_type": "markdown",
      "source": [
        "z = x^T * y / (sqrt(N))"
      ],
      "metadata": {
        "id": "r6JQrXDXrZDy"
      }
    },
    {
      "cell_type": "code",
      "source": [
        "Y_new = (pd.DataFrame(Y)).to_numpy()[:,0].copy()\n",
        "for i in range(len(Y_new)):\n",
        "  if Y_new[i]>=7:\n",
        "    Y_new[i]=1\n",
        "  else:\n",
        "    Y_new[i]=0\n",
        "print(Y_new)\n",
        "print(Y)"
      ],
      "metadata": {
        "id": "D_4GxmgOWmMM",
        "colab": {
          "base_uri": "https://localhost:8080/"
        },
        "outputId": "e72ae729-d38d-4675-a30a-f3e02ae18ad1"
      },
      "execution_count": 69,
      "outputs": [
        {
          "output_type": "stream",
          "name": "stdout",
          "text": [
            "[1. 1. 1. ... 0. 0. 0.]\n",
            "[9. 7. 9. ... 4. 2. 2.]\n"
          ]
        }
      ]
    },
    {
      "cell_type": "code",
      "source": [
        "from pandas.core.construction import array\n",
        "from numpy.lib.shape_base import tile\n",
        "from numpy.lib.index_tricks import s_\n",
        "from numpy.core.fromnumeric import std\n",
        "from sklearn.preprocessing import StandardScaler\n",
        "\n",
        "N=25000\n",
        "x_new = X[:,indices].toarray()\n",
        "x_new_standardize = StandardScaler().fit(x_new).transform(x_new)\n",
        "\n",
        "z1 = np.matmul(x_new_standardize.transpose(), Y_new)/np.sqrt(N)\n",
        "\n",
        "#find the absolute value of all z-score \n",
        "z1_absolute = np.absolute(z1)\n",
        "# x_new_average = np.mean(x_new_standardize)\n",
        "# z1_average = np.mean(z1_absolute)\n",
        "# z1_std = np.std(z1_absolute)\n",
        "# z1_range = z1_std + z1_average\n",
        "# z1_index = np.where((z1_absolute >= z1_average) & (z1_absolute <=z1_range))[0]\n",
        "z1_index_top100 = np.argsort(z1_absolute)[0:500]\n"
      ],
      "metadata": {
        "id": "x_DOX49a2FaV"
      },
      "execution_count": 70,
      "outputs": []
    },
    {
      "cell_type": "markdown",
      "source": [
        "Data preprocessing\n",
        "turn the text data into tabular format with selected features as the words and the text documents as the training or test examples.\n"
      ],
      "metadata": {
        "id": "0LJDH4KDrOua"
      }
    },
    {
      "cell_type": "markdown",
      "source": [
        "##1. Logistic Regression"
      ],
      "metadata": {
        "id": "IFQZctlSwKIt"
      }
    },
    {
      "cell_type": "code",
      "source": [
        "\n",
        "%matplotlib notebook\n",
        "%matplotlib inline\n",
        "import pandas as pd\n",
        "import csv\n",
        "import numpy as np\n",
        "import matplotlib.pyplot as plt\n",
        "from IPython.core.debugger import set_trace\n",
        "import warnings\n",
        "warnings.filterwarnings('ignore')\n",
        "\n",
        "np.random.seed(1234)"
      ],
      "metadata": {
        "id": "MkYi6Bfkv4Y0"
      },
      "execution_count": 71,
      "outputs": []
    },
    {
      "cell_type": "code",
      "source": [
        "import itertools\n",
        "def plot_contour(f, x1bound, x2bound, resolution, ax):\n",
        "    x1range = np.linspace(x1bound[0], x1bound[1], resolution)\n",
        "    x2range = np.linspace(x2bound[0], x2bound[1], resolution)\n",
        "    xg, yg = np.meshgrid(x1range, x2range)\n",
        "    zg = np.zeros_like(xg)\n",
        "    for i,j in itertools.product(range(resolution), range(resolution)):\n",
        "        zg[i,j] = f([xg[i,j], yg[i,j]])\n",
        "    ax.contour(xg, yg, zg, 100)\n",
        "    return ax"
      ],
      "metadata": {
        "id": "cN05JMZ9XbG7"
      },
      "execution_count": 72,
      "outputs": []
    },
    {
      "cell_type": "code",
      "source": [
        "logistic = lambda z: 1./ (1 + np.exp(-z))       #logistic function\n",
        "z = np.linspace(-5,5,100)\n",
        "plt.plot(z, logistic(z))\n",
        "plt.axhline(y = 0.5, color = 'b', linestyle = 'dashed', lw=0.5)\n",
        "plt.axvline(x = 0, color = 'b', linestyle = 'dashed', lw=0.5)\n",
        "plt.title('logistic function')\n",
        "plt.savefig('logistic_function.png', bbox_inches=\"tight\", dpi=300)"
      ],
      "metadata": {
        "id": "9PqDUTkKWrON",
        "colab": {
          "base_uri": "https://localhost:8080/",
          "height": 281
        },
        "outputId": "89278004-f2b3-404c-ab69-c07d7d0e5a4f"
      },
      "execution_count": 73,
      "outputs": [
        {
          "output_type": "display_data",
          "data": {
            "text/plain": [
              "<Figure size 432x288 with 1 Axes>"
            ],
            "image/png": "[encoded data removed]"
          },
          "metadata": {
            "needs_background": "light"
          }
        }
      ]
    },
    {
      "cell_type": "markdown",
      "source": [
        "###Logistic Regression"
      ],
      "metadata": {
        "id": "RnYNxYtkuGnA"
      }
    },
    {
      "cell_type": "code",
      "source": [
        "class LogisticRegression:\n",
        "    \n",
        "    def __init__(self, add_bias=True, learning_rate=.1, epsilon=1e-4, max_iters=1e5, verbose=False):\n",
        "        self.add_bias = add_bias\n",
        "        self.learning_rate = learning_rate\n",
        "        self.epsilon = epsilon                        #to get the tolerance for the norm of gradients \n",
        "        self.max_iters = max_iters                    #maximum number of iteration of gradient descent\n",
        "        self.verbose = verbose\n",
        "        self.ce_history = []\n",
        "\n",
        "    def gradient(self, x, y):\n",
        "        N,D = x.shape\n",
        "        a = np.dot(x, self.w)\n",
        "        yh = logistic(np.dot(x, self.w))    # predictions  size N\n",
        "\n",
        "        self.ce_history.append(np.sum(y * np.log1p(np.exp(-a)) + (1-y) * np.log1p(np.exp(a))))\n",
        "\n",
        "        grad = np.dot(x.T, yh - y)/N        # divide by N because cost is mean over N points\n",
        "        return grad\n",
        "        \n",
        "    def fit(self, x, y):\n",
        "        if x.ndim == 1:\n",
        "            x = x[:, None]\n",
        "        if self.add_bias:\n",
        "            N = x.shape[0]\n",
        "            x = np.column_stack([x,np.ones(N)])\n",
        "        N,D = x.shape\n",
        "        self.w = np.zeros(D)\n",
        "        g = np.inf \n",
        "        t = 0\n",
        "        # the code snippet below is for gradient descent\n",
        "        while np.linalg.norm(g) > self.epsilon and t < self.max_iters:\n",
        "            g = self.gradient(x, y)\n",
        "            self.w = self.w - self.learning_rate * g \n",
        "            t += 1\n",
        "\n",
        "            #--------------------------------\n",
        "            # self.gradient_hist.append(g)\n",
        "            #--------------------------------\n",
        "        \n",
        "        if self.verbose:\n",
        "            print(f'terminated after {t} iterations, with norm of the gradient equal to {np.linalg.norm(g)}')\n",
        "            print(f'the weight found: {self.w}')\n",
        "        return self\n",
        "    \n",
        "    def predict(self, x):\n",
        "        if x.ndim == 1:\n",
        "            x = x[:, None]\n",
        "        Nt = x.shape[0]\n",
        "        if self.add_bias:\n",
        "            x = np.column_stack([x,np.ones(Nt)])\n",
        "        yh = logistic(np.dot(x,self.w))            #predict output\n",
        "        return yh\n",
        "\n",
        "# LogisticRegression.gradient = gradient             #initialize the gradient method of the LogisticRegression class with gradient function"
      ],
      "metadata": {
        "id": "FyPVWziRtOAI"
      },
      "execution_count": 74,
      "outputs": []
    },
    {
      "cell_type": "markdown",
      "source": [
        "###Final Dataframe"
      ],
      "metadata": {
        "id": "pjGFtWVnQjaM"
      }
    },
    {
      "cell_type": "markdown",
      "source": [
        "training dataset"
      ],
      "metadata": {
        "id": "fa7N5J2d3KSj"
      }
    },
    {
      "cell_type": "code",
      "source": [
        "from pandas.core.internals.construction import to_arrays\n",
        "# sort_topD_z_score_index = np.array(topD_z_score_index)\n",
        "array_X = np.array(X)\n",
        "df = pd.DataFrame.sparse.from_spmatrix(X)\n",
        "# df1 is the dataframe of X\n",
        "X_train = df.iloc[:,z1_index_top100].to_numpy()\n",
        "X_train = StandardScaler().fit(X_train).transform(X_train)\n",
        "# print(df1.shape)\n",
        "# X_train = df1.sort_index(axis=1).to_numpy()\n",
        "#df2 is the dataframe of Y\n",
        "\n",
        "Y_train = (pd.DataFrame(Y)).to_numpy()[:,0].copy()\n",
        "for i in range(len(Y_train)):\n",
        "  if Y_train[i]>=7:\n",
        "    Y_train[i]=1\n",
        "  else:\n",
        "    Y_train[i]=0\n",
        "Y_train\n"
      ],
      "metadata": {
        "id": "19aIJQlcQZiD",
        "colab": {
          "base_uri": "https://localhost:8080/"
        },
        "outputId": "bec32a37-afeb-4ec4-b038-b4e4ac0f4bfc"
      },
      "execution_count": 75,
      "outputs": [
        {
          "output_type": "execute_result",
          "data": {
            "text/plain": [
              "array([1., 1., 1., ..., 0., 0., 0.])"
            ]
          },
          "metadata": {},
          "execution_count": 75
        }
      ]
    },
    {
      "cell_type": "markdown",
      "source": [
        "test dataset"
      ],
      "metadata": {
        "id": "bt0wgtHH3MU0"
      }
    },
    {
      "cell_type": "code",
      "source": [
        "test_data_dir =  home_dir + \"aclImdb/test/labeledBow.feat\"\n",
        "XT,YT = load_svmlight_file(test_data_dir, multilabel = False, zero_based = True)\n",
        "df_Test = pd.DataFrame.sparse.from_spmatrix(XT)\n",
        "X_test = df_Test.iloc[:,z1_index_top100].to_numpy()\n",
        "# X_test = dfX_Test.sort_index(axis=1).to_numpy()\n",
        "X_test = StandardScaler().fit(X_test).transform(X_test)\n",
        "Y_test = (pd.DataFrame(YT)).to_numpy()[:,0].copy()\n",
        "for i in range(len(Y_test)):\n",
        "  if Y_test[i]>=7:\n",
        "    Y_test[i]=1\n",
        "  else:\n",
        "    Y_test[i]=0\n",
        "Y_test\n",
        "#X_test.headers(50)"
      ],
      "metadata": {
        "id": "w5XworHskvt1",
        "colab": {
          "base_uri": "https://localhost:8080/"
        },
        "outputId": "7f8a2a8f-0a28-4c94-cd11-3aeb778d9f6c"
      },
      "execution_count": 76,
      "outputs": [
        {
          "output_type": "execute_result",
          "data": {
            "text/plain": [
              "array([1., 1., 1., ..., 0., 0., 0.])"
            ]
          },
          "metadata": {},
          "execution_count": 76
        }
      ]
    },
    {
      "cell_type": "markdown",
      "source": [
        "###Classification accuracy"
      ],
      "metadata": {
        "id": "LF7OZD-fiN2y"
      }
    },
    {
      "cell_type": "code",
      "source": [
        "'''re-allocate samples'''\n",
        "X_split1 = X_train[0:6250,:]\n",
        "X_split2 = X_train[18750:25000,:]\n",
        "X_train_cat = np.concatenate((X_split1, X_split2), axis=0) # re-sliced x train\n",
        "\n",
        "Y_split1 = Y_train[0:6250]\n",
        "Y_split2 = Y_train[18750:25000]\n",
        "Y_train_cat = np.concatenate((Y_split1,Y_split2), axis=0) # re-sliced y train\n",
        "\n",
        "X_val = X_train[6250:18750,:]\n",
        "Y_val = Y_train[6250:18750]\n",
        "\n",
        "'''validate laerning rate'''\n",
        "logitreg2 = LogisticRegression(max_iters=1e3)\n",
        "fit = logitreg2.fit(X_train_cat, Y_train_cat)\n",
        "\n",
        "y_train_pred = fit.predict(X_train_cat)\n",
        "y_test_pred = fit.predict(X_val)\n",
        "\n",
        "# threshold probabilities\n",
        "y_train_pred = (y_train_pred > 0.5).astype(int)\n",
        "y_test_pred = (y_test_pred > 0.5).astype(int)\n",
        "\n",
        "# accuracy = correctly classified / total classified\n",
        "acc_train = sum(y_train_pred==Y_train_cat)/len(Y_train_cat)\n",
        "acc_test = sum(y_test_pred==Y_val)/len(Y_val)\n",
        "print(f\"train accuracy: {acc_train:.7f}; test accuracy: {acc_test:.7f}\")\n"
      ],
      "metadata": {
        "id": "ESrzTi8KLmRh",
        "colab": {
          "base_uri": "https://localhost:8080/"
        },
        "outputId": "45ac7895-0d7f-4d0f-f836-bb849166b579"
      },
      "execution_count": 83,
      "outputs": [
        {
          "output_type": "stream",
          "name": "stdout",
          "text": [
            "train accuracy: 0.7901600; test accuracy: 0.7409600\n"
          ]
        }
      ]
    },
    {
      "cell_type": "markdown",
      "source": [
        "through experiments we found best alpha=0.1"
      ],
      "metadata": {
        "id": "WYLbMakpn2qP"
      }
    },
    {
      "cell_type": "code",
      "source": [
        "'''test sample'''\n",
        "from numpy.lib.function_base import gradient\n",
        "logitreg = LogisticRegression(max_iters=1e3)\n",
        "fit = logitreg.fit(X_train_cat, Y_train_cat)\n",
        "\n",
        "weights = fit.w\n",
        "y_train_pred = fit.predict(X_train_cat)\n",
        "y_test_pred = fit.predict(X_test)\n",
        "\n",
        "# threshold probabilities\n",
        "y_train_pred = (y_train_pred > 0.5).astype(int)\n",
        "y_test_pred = (y_test_pred > 0.5).astype(int)\n",
        "\n",
        "# accuracy = correctly classified / total classified\n",
        "acc_train = sum(y_train_pred==Y_train_cat)/len(Y_train_cat)\n",
        "acc_test = sum(y_test_pred==Y_test)/len(Y_test)\n",
        "print(f\"train accuracy: {acc_train:.7f}; test accuracy: {acc_test:.7f}\")"
      ],
      "metadata": {
        "id": "i53q8cR2iNf1",
        "colab": {
          "base_uri": "https://localhost:8080/"
        },
        "outputId": "3a6cb12d-b1fc-4512-fb18-8a6ffee967f1"
      },
      "execution_count": 78,
      "outputs": [
        {
          "output_type": "stream",
          "name": "stdout",
          "text": [
            "train accuracy: 0.7901600; test accuracy: 0.7528800\n"
          ]
        }
      ]
    },
    {
      "cell_type": "markdown",
      "source": [
        "### Check gradient \n",
        "1. small perturbation\n",
        "\n",
        "1. $\\epsilon \\sim Uniform([0,1])$\n",
        "2. $w^{(+)}_d = w_d + \\epsilon$\n",
        "3. $w^{(-)}_d = w_d - \\epsilon$\n",
        "4. $\\nabla w_d = \\frac{J(w^{(+)}_d) - J(w^{(-)}_d)}{2 \\epsilon}$ (numerically estimated gradient)\n",
        "5. $\\frac{(\\frac{\\partial J(w)}{\\partial w}  - \\nabla w_d)^2}{(\\frac{\\partial J(w)}{\\partial w}  + \\nabla w_d)^2}$ must be small (e.g., $10^{-8}$) otherwise your gradient calculation and/or your loss function is incorrect"
      ],
      "metadata": {
        "id": "WbEvJaZtUL5J"
      }
    },
    {
      "cell_type": "code",
      "source": [
        "# N=25000\n",
        "# x = np.linspace(-5,5, N)\n",
        "# y = (x > 0.5).astype(int)\n",
        "\n",
        "x = X_train_cat\n",
        "y = Y_train_cat\n",
        "\n",
        "N = x.shape[0]\n",
        "x = np.column_stack([x,np.ones(N)])\n",
        "\n",
        "'''small perturbation'''\n",
        "# w = np.random.randn(1)\n",
        "# w0 = w\n",
        "\n",
        "w0 = weights\n",
        "# print(w0)\n",
        "# print(len(x))\n",
        "\n",
        "epsilon = np.random.randn(1)[0] * 1e-5\n",
        "w1 = w0 + epsilon\n",
        "w2 = w0 - epsilon\n",
        "# a1 = w1*x\n",
        "# a2 = w2*x\n",
        "\n",
        "a1 = np.matmul(x, w1)\n",
        "a2 = np.matmul(x, w2)\n",
        "\n",
        "ce1 = np.sum(y * np.log1p(np.exp(-a1)) + (1-y) * np.log1p(np.exp(a1)))\n",
        "ce2 = np.sum(y * np.log1p(np.exp(-a2)) + (1-y) * np.log1p(np.exp(a2)))\n",
        "dw_num = (ce1 - ce2)/(2*epsilon) # approximated gradient\n",
        "\n",
        "# yh = 1/(1+np.exp(-x * w0))\n",
        "yh = 1/(1+np.exp(np.matmul(-x, w0)))\n",
        "dw_cal = np.sum(np.matmul(x.transpose(), (yh - y)) )  # hand calculated gradient\n",
        "\n",
        "# print(dw_cal)\n",
        "# print(dw_num)\n",
        "print((dw_cal - dw_num)**2/(dw_cal + dw_num)**2)"
      ],
      "metadata": {
        "colab": {
          "base_uri": "https://localhost:8080/"
        },
        "id": "rkmreAh_TzHX",
        "outputId": "05f600ad-54f4-481b-902e-ce26568bac4d"
      },
      "execution_count": 79,
      "outputs": [
        {
          "output_type": "stream",
          "name": "stdout",
          "text": [
            "1.7990106514914935e-09\n"
          ]
        }
      ]
    },
    {
      "cell_type": "markdown",
      "source": [
        "2. Convergence"
      ],
      "metadata": {
        "id": "34p74rYzdzIT"
      }
    },
    {
      "cell_type": "code",
      "source": [
        "ce_history = logitreg.ce_history\n",
        "plt.plot(range(len(ce_history)),ce_history)\n",
        "plt.title('convergence with learning rate = ' + str(logitreg.learning_rate))\n",
        "plt.ylabel('cross entropy')\n",
        "plt.xlabel('iteration')\n",
        "plt.show()"
      ],
      "metadata": {
        "id": "qlGNp7euPIzl",
        "colab": {
          "base_uri": "https://localhost:8080/",
          "height": 295
        },
        "outputId": "331e1504-0db3-4466-ce28-a1652a4965ca"
      },
      "execution_count": 80,
      "outputs": [
        {
          "output_type": "display_data",
          "data": {
            "text/plain": [
              "<Figure size 432x288 with 1 Axes>"
            ],
            "image/png": "[encoded data removed]"
          },
          "metadata": {
            "needs_background": "light"
          }
        }
      ]
    },
    {
      "cell_type": "markdown",
      "source": [
        "comparing with linear regression"
      ],
      "metadata": {
        "id": "c98qQCz3R-su"
      }
    },
    {
      "cell_type": "code",
      "source": [
        "from sklearn.linear_model import LinearRegression\n",
        "from sklearn import linear_model\n",
        "import statsmodels.api as sm\n",
        "\n",
        "Y_1 = Y[0:6250]\n",
        "Y_2 = Y[18750:25000]\n",
        "Y_train_linear = np.concatenate((Y_1,Y_2), axis=0)\n",
        "Y_test_linear = (pd.DataFrame(YT)).to_numpy()[:,0].copy()\n",
        "\n",
        "# with sklearn\n",
        "regr = linear_model.LinearRegression()\n",
        "regr.fit(X_train_cat, Y_train_linear)\n",
        "\n",
        "# with statsmodels\n",
        "X_train_linear = sm.add_constant(X_train_cat) # adding a constant\n",
        "model = sm.OLS(Y_train_linear, X_train_linear).fit()\n",
        "predictions = model.predict(X_train_linear) \n",
        "print_model = model.summary()\n",
        "\n",
        "print(print_model)\n",
        "# mse = mean_squared_error(y_true=Y_test_linear,y_pred=y_pred_lr) #default=True\n",
        "# print(\"mse = \", mse)\n",
        "# r2 = reg.score(X_test, Y_test_linear)\n",
        "# print(\"r2 score =\", r2)"
      ],
      "metadata": {
        "id": "ojBVR3npSCY4",
        "colab": {
          "base_uri": "https://localhost:8080/"
        },
        "outputId": "bf48a9e6-cb1e-40a5-a149-bb6f94b6198c"
      },
      "execution_count": 84,
      "outputs": [
        {
          "output_type": "stream",
          "name": "stdout",
          "text": [
            "                            OLS Regression Results                            \n",
            "==============================================================================\n",
            "Dep. Variable:                      y   R-squared:                       0.340\n",
            "Model:                            OLS   Adj. R-squared:                  0.313\n",
            "Method:                 Least Squares   F-statistic:                     12.38\n",
            "Date:                Wed, 09 Nov 2022   Prob (F-statistic):               0.00\n",
            "Time:                        00:31:21   Log-Likelihood:                -30729.\n",
            "No. Observations:               12500   AIC:                         6.246e+04\n",
            "Df Residuals:                   11999   BIC:                         6.618e+04\n",
            "Df Model:                         500                                         \n",
            "Covariance Type:            nonrobust                                         \n",
            "==============================================================================\n",
            "                 coef    std err          t      P>|t|      [0.025      0.975]\n",
            "------------------------------------------------------------------------------\n",
            "const          5.4633      0.026    207.002      0.000       5.412       5.515\n",
            "x1             0.0613      0.027      2.257      0.024       0.008       0.114\n",
            "x2            -0.0354      0.031     -1.152      0.249      -0.096       0.025\n",
            "x3             0.0170      0.028      0.616      0.538      -0.037       0.071\n",
            "x4             0.0787      0.028      2.764      0.006       0.023       0.134\n",
            "x5            -0.0291      0.027     -1.068      0.286      -0.083       0.024\n",
            "x6             0.0052      0.027      0.192      0.848      -0.048       0.058\n",
            "x7             0.0407      0.026      1.550      0.121      -0.011       0.092\n",
            "x8            -0.0726      0.027     -2.706      0.007      -0.125      -0.020\n",
            "x9            -0.0037      0.029     -0.128      0.898      -0.060       0.053\n",
            "x10           -0.0234      0.029     -0.802      0.422      -0.081       0.034\n",
            "x11            0.0821      0.026      3.195      0.001       0.032       0.133\n",
            "x12           -0.0486      0.029     -1.692      0.091      -0.105       0.008\n",
            "x13           -0.1042      0.029     -3.598      0.000      -0.161      -0.047\n",
            "x14            0.0227      0.028      0.822      0.411      -0.031       0.077\n",
            "x15           -0.0006      0.024     -0.026      0.979      -0.048       0.046\n",
            "x16           -0.0009      0.029     -0.032      0.974      -0.057       0.055\n",
            "x17            0.0908      0.029      3.151      0.002       0.034       0.147\n",
            "x18           -0.0995      0.027     -3.673      0.000      -0.153      -0.046\n",
            "x19            0.0427      0.028      1.516      0.129      -0.013       0.098\n",
            "x20            0.1037      0.028      3.756      0.000       0.050       0.158\n",
            "x21            0.0382      0.029      1.333      0.182      -0.018       0.094\n",
            "x22            0.0714      0.025      2.805      0.005       0.022       0.121\n",
            "x23           -0.0433      0.027     -1.627      0.104      -0.095       0.009\n",
            "x24           -0.1266      0.029     -4.318      0.000      -0.184      -0.069\n",
            "x25           -0.0530      0.034     -1.558      0.119      -0.120       0.014\n",
            "x26            0.0344      0.030      1.153      0.249      -0.024       0.093\n",
            "x27           -0.0640      0.025     -2.550      0.011      -0.113      -0.015\n",
            "x28           -0.0027      0.027     -0.102      0.919      -0.055       0.050\n",
            "x29            0.0142      0.027      0.523      0.601      -0.039       0.067\n",
            "x30            0.0557      0.027      2.096      0.036       0.004       0.108\n",
            "x31           -0.0193      0.030     -0.647      0.517      -0.078       0.039\n",
            "x32           -0.1759      0.027     -6.409      0.000      -0.230      -0.122\n",
            "x33           -0.1497      0.031     -4.782      0.000      -0.211      -0.088\n",
            "x34            0.1439      0.027      5.283      0.000       0.091       0.197\n",
            "x35           -0.0214      0.028     -0.775      0.438      -0.076       0.033\n",
            "x36            0.0138      0.028      0.501      0.617      -0.040       0.068\n",
            "x37            0.0477      0.030      1.568      0.117      -0.012       0.107\n",
            "x38           -0.0394      0.027     -1.436      0.151      -0.093       0.014\n",
            "x39           -0.0875      0.027     -3.263      0.001      -0.140      -0.035\n",
            "x40            0.0816      0.026      3.091      0.002       0.030       0.133\n",
            "x41           -0.0479      0.025     -1.892      0.058      -0.098       0.002\n",
            "x42            0.0043      0.029      0.148      0.883      -0.053       0.061\n",
            "x43           -0.0227      0.027     -0.839      0.401      -0.076       0.030\n",
            "x44            0.0017      0.028      0.062      0.950      -0.053       0.056\n",
            "x45            0.0148      0.025      0.582      0.560      -0.035       0.064\n",
            "x46            0.0219      0.027      0.818      0.413      -0.031       0.074\n",
            "x47            0.1165      0.030      3.927      0.000       0.058       0.175\n",
            "x48            0.0041      0.028      0.143      0.886      -0.052       0.060\n",
            "x49           -0.0465      0.027     -1.714      0.086      -0.100       0.007\n",
            "x50           -0.0355      0.026     -1.367      0.172      -0.086       0.015\n",
            "x51            0.1562      0.028      5.521      0.000       0.101       0.212\n",
            "x52            0.0439      0.027      1.639      0.101      -0.009       0.096\n",
            "x53            0.0308      0.028      1.089      0.276      -0.025       0.086\n",
            "x54           -0.2739      0.030     -9.175      0.000      -0.332      -0.215\n",
            "x55            0.0097      0.027      0.355      0.722      -0.044       0.063\n",
            "x56            0.0084      0.028      0.305      0.761      -0.046       0.063\n",
            "x57           -0.0113      0.027     -0.413      0.680      -0.065       0.042\n",
            "x58            0.0253      0.026      0.978      0.328      -0.025       0.076\n",
            "x59           -0.0298      0.027     -1.091      0.275      -0.083       0.024\n",
            "x60            0.0655      0.027      2.402      0.016       0.012       0.119\n",
            "x61            0.0733      0.028      2.654      0.008       0.019       0.127\n",
            "x62            0.0688      0.026      2.651      0.008       0.018       0.120\n",
            "x63            0.0220      0.025      0.880      0.379      -0.027       0.071\n",
            "x64            0.0483      0.027      1.767      0.077      -0.005       0.102\n",
            "x65            0.0165      0.029      0.570      0.569      -0.040       0.073\n",
            "x66            0.0380      0.027      1.418      0.156      -0.015       0.091\n",
            "x67           -0.0301      0.027     -1.119      0.263      -0.083       0.023\n",
            "x68           -0.0403      0.029     -1.413      0.158      -0.096       0.016\n",
            "x69           -0.0065      0.029     -0.220      0.826      -0.064       0.051\n",
            "x70           -0.0257      0.025     -1.013      0.311      -0.075       0.024\n",
            "x71            0.0733      0.028      2.650      0.008       0.019       0.127\n",
            "x72            0.0301      0.030      0.994      0.320      -0.029       0.089\n",
            "x73            0.0387      0.028      1.395      0.163      -0.016       0.093\n",
            "x74           -0.0430      0.029     -1.463      0.144      -0.101       0.015\n",
            "x75           -0.0929      0.027     -3.442      0.001      -0.146      -0.040\n",
            "x76           -0.0196      0.033     -0.593      0.553      -0.084       0.045\n",
            "x77           -0.0263      0.028     -0.933      0.351      -0.082       0.029\n",
            "x78            0.1475      0.027      5.444      0.000       0.094       0.201\n",
            "x79           -0.0151      0.027     -0.558      0.577      -0.068       0.038\n",
            "x80           -0.0159      0.029     -0.554      0.580      -0.072       0.040\n",
            "x81           -0.0481      0.025     -1.903      0.057      -0.098       0.001\n",
            "x82           -0.0365      0.027     -1.359      0.174      -0.089       0.016\n",
            "x83            0.0254      0.026      0.967      0.333      -0.026       0.077\n",
            "x84            0.0791      0.029      2.707      0.007       0.022       0.136\n",
            "x85            0.0668      0.028      2.429      0.015       0.013       0.121\n",
            "x86           -0.0050      0.026     -0.189      0.850      -0.057       0.047\n",
            "x87            0.0084      0.028      0.305      0.760      -0.046       0.063\n",
            "x88            0.0276      0.022      1.229      0.219      -0.016       0.072\n",
            "x89            0.0087      0.027      0.318      0.751      -0.045       0.062\n",
            "x90           -0.0431      0.028     -1.566      0.117      -0.097       0.011\n",
            "x91           -0.0726      0.028     -2.597      0.009      -0.127      -0.018\n",
            "x92            0.1210      0.028      4.370      0.000       0.067       0.175\n",
            "x93           -0.0939      0.028     -3.397      0.001      -0.148      -0.040\n",
            "x94            0.0587      0.022      2.684      0.007       0.016       0.102\n",
            "x95           -0.0705      0.026     -2.666      0.008      -0.122      -0.019\n",
            "x96           -0.0137      0.026     -0.521      0.602      -0.065       0.038\n",
            "x97           -0.0137      0.029     -0.481      0.631      -0.070       0.042\n",
            "x98            0.0019      0.029      0.066      0.947      -0.055       0.059\n",
            "x99           -0.0067      0.027     -0.247      0.805      -0.060       0.046\n",
            "x100          -0.0565      0.023     -2.476      0.013      -0.101      -0.012\n",
            "x101           0.0627      0.036      1.749      0.080      -0.008       0.133\n",
            "x102           0.4842      0.028     17.097      0.000       0.429       0.540\n",
            "x103           0.0063      0.030      0.209      0.835      -0.053       0.066\n",
            "x104          -0.1028      0.033     -3.135      0.002      -0.167      -0.039\n",
            "x105          -0.0249      0.027     -0.912      0.362      -0.078       0.029\n",
            "x106           0.0225      0.028      0.817      0.414      -0.032       0.077\n",
            "x107          -0.0532      0.027     -1.951      0.051      -0.107       0.000\n",
            "x108           0.0183      0.031      0.594      0.553      -0.042       0.079\n",
            "x109          -0.0258      0.028     -0.931      0.352      -0.080       0.029\n",
            "x110           0.1080      0.034      3.146      0.002       0.041       0.175\n",
            "x111           0.1888      0.029      6.429      0.000       0.131       0.246\n",
            "x112           0.0017      0.025      0.069      0.945      -0.048       0.051\n",
            "x113           0.0004      0.028      0.013      0.990      -0.054       0.054\n",
            "x114           0.0345      0.029      1.201      0.230      -0.022       0.091\n",
            "x115          -0.0158      0.029     -0.551      0.582      -0.072       0.040\n",
            "x116          -0.0446      0.026     -1.691      0.091      -0.096       0.007\n",
            "x117          -0.0183      0.028     -0.666      0.505      -0.072       0.036\n",
            "x118           0.0186      0.029      0.639      0.523      -0.039       0.076\n",
            "x119           0.0251      0.025      0.993      0.321      -0.025       0.075\n",
            "x120          -0.0026      0.030     -0.088      0.930      -0.061       0.056\n",
            "x121           0.0195      0.028      0.687      0.492      -0.036       0.075\n",
            "x122           0.0520      0.027      1.910      0.056      -0.001       0.105\n",
            "x123          -0.0343      0.031     -1.123      0.262      -0.094       0.026\n",
            "x124          -0.0250      0.025     -0.993      0.321      -0.074       0.024\n",
            "x125          -0.0577      0.028     -2.065      0.039      -0.112      -0.003\n",
            "x126          -0.1191      0.026     -4.621      0.000      -0.170      -0.069\n",
            "x127           0.0590      0.028      2.106      0.035       0.004       0.114\n",
            "x128          -0.0245      0.027     -0.918      0.359      -0.077       0.028\n",
            "x129          -0.0670      0.027     -2.466      0.014      -0.120      -0.014\n",
            "x130          -0.0288      0.028     -1.039      0.299      -0.083       0.025\n",
            "x131          -0.0280      0.029     -0.949      0.343      -0.086       0.030\n",
            "x132          -0.0083      0.027     -0.309      0.758      -0.061       0.045\n",
            "x133          -0.0269      0.029     -0.940      0.347      -0.083       0.029\n",
            "x134           0.0125      0.028      0.453      0.650      -0.042       0.067\n",
            "x135           0.0642      0.027      2.336      0.019       0.010       0.118\n",
            "x136           0.0155      0.028      0.558      0.577      -0.039       0.070\n",
            "x137           0.0173      0.031      0.552      0.581      -0.044       0.079\n",
            "x138          -0.0336      0.028     -1.181      0.237      -0.089       0.022\n",
            "x139          -0.0157      0.026     -0.596      0.551      -0.067       0.036\n",
            "x140           0.0462      0.027      1.719      0.086      -0.006       0.099\n",
            "x141           0.0087      0.029      0.305      0.761      -0.047       0.065\n",
            "x142          -0.1541      0.046     -3.377      0.001      -0.244      -0.065\n",
            "x143           0.0200      0.025      0.785      0.432      -0.030       0.070\n",
            "x144          -0.1753      0.027     -6.415      0.000      -0.229      -0.122\n",
            "x145           0.0354      0.026      1.372      0.170      -0.015       0.086\n",
            "x146          -0.2894      0.027    -10.568      0.000      -0.343      -0.236\n",
            "x147          -0.0474      0.031     -1.521      0.128      -0.108       0.014\n",
            "x148           0.0029      0.034      0.085      0.932      -0.063       0.069\n",
            "x149          -0.0159      0.028     -0.575      0.565      -0.070       0.038\n",
            "x150          -0.0546      0.023     -2.338      0.019      -0.100      -0.009\n",
            "x151           0.1074      0.042      2.528      0.011       0.024       0.191\n",
            "x152          -0.0155      0.027     -0.576      0.565      -0.068       0.037\n",
            "x153          -0.0268      0.026     -1.030      0.303      -0.078       0.024\n",
            "x154          -0.0166      0.027     -0.617      0.537      -0.069       0.036\n",
            "x155           0.0213      0.026      0.812      0.417      -0.030       0.073\n",
            "x156           0.0765      0.027      2.854      0.004       0.024       0.129\n",
            "x157           0.0792      0.031      2.518      0.012       0.018       0.141\n",
            "x158           0.0428      0.025      1.702      0.089      -0.006       0.092\n",
            "x159           0.0289      0.026      1.125      0.261      -0.021       0.079\n",
            "x160          -0.0578      0.027     -2.170      0.030      -0.110      -0.006\n",
            "x161           0.0832      0.027      3.089      0.002       0.030       0.136\n",
            "x162          -0.0389      0.028     -1.384      0.167      -0.094       0.016\n",
            "x163           0.0152      0.025      0.606      0.545      -0.034       0.065\n",
            "x164           0.0009      0.032      0.027      0.978      -0.062       0.064\n",
            "x165          -0.0034      0.028     -0.122      0.903      -0.058       0.051\n",
            "x166           0.0089      0.036      0.246      0.806      -0.062       0.080\n",
            "x167          -0.0258      0.027     -0.955      0.340      -0.079       0.027\n",
            "x168          -0.0321      0.028     -1.131      0.258      -0.088       0.024\n",
            "x169          -0.0168      0.040     -0.416      0.677      -0.096       0.062\n",
            "x170           0.0820      0.029      2.812      0.005       0.025       0.139\n",
            "x171           0.0708      0.026      2.673      0.008       0.019       0.123\n",
            "x172           0.0733      0.027      2.667      0.008       0.019       0.127\n",
            "x173           0.0119      0.026      0.454      0.650      -0.039       0.063\n",
            "x174          -0.0123      0.027     -0.457      0.647      -0.065       0.040\n",
            "x175          -0.0146      0.026     -0.552      0.581      -0.067       0.037\n",
            "x176          -0.0334      0.026     -1.300      0.194      -0.084       0.017\n",
            "x177          -0.0594      0.026     -2.309      0.021      -0.110      -0.009\n",
            "x178          -0.0243      0.029     -0.849      0.396      -0.080       0.032\n",
            "x179           0.0909      0.033      2.753      0.006       0.026       0.156\n",
            "x180          -0.0264      0.033     -0.808      0.419      -0.090       0.038\n",
            "x181          -0.0015      0.026     -0.058      0.954      -0.052       0.049\n",
            "x182           0.0992      0.026      3.819      0.000       0.048       0.150\n",
            "x183          -0.2089      0.028     -7.477      0.000      -0.264      -0.154\n",
            "x184          -0.0006      0.026     -0.025      0.980      -0.052       0.051\n",
            "x185          -0.0003      0.029     -0.011      0.991      -0.056       0.056\n",
            "x186          -0.0303      0.027     -1.113      0.266      -0.084       0.023\n",
            "x187           0.0110      0.028      0.400      0.689      -0.043       0.065\n",
            "x188           0.0103      0.026      0.394      0.693      -0.041       0.061\n",
            "x189           0.1223      0.028      4.420      0.000       0.068       0.176\n",
            "x190           0.1207      0.029      4.116      0.000       0.063       0.178\n",
            "x191          -0.0630      0.027     -2.342      0.019      -0.116      -0.010\n",
            "x192          -0.0331      0.030     -1.097      0.273      -0.092       0.026\n",
            "x193           0.0224      0.029      0.782      0.434      -0.034       0.078\n",
            "x194          -0.0214      0.026     -0.834      0.404      -0.072       0.029\n",
            "x195           0.0049      0.029      0.172      0.864      -0.051       0.061\n",
            "x196          -0.0304      0.028     -1.070      0.285      -0.086       0.025\n",
            "x197          -0.0131      0.030     -0.440      0.660      -0.071       0.045\n",
            "x198           0.0178      0.028      0.631      0.528      -0.037       0.073\n",
            "x199          -0.0660      0.028     -2.338      0.019      -0.121      -0.011\n",
            "x200           0.0017      0.026      0.065      0.948      -0.049       0.053\n",
            "x201           0.0727      0.026      2.804      0.005       0.022       0.124\n",
            "x202          -0.0036      0.028     -0.128      0.898      -0.059       0.052\n",
            "x203           0.0019      0.027      0.071      0.944      -0.051       0.055\n",
            "x204          -0.0195      0.026     -0.766      0.444      -0.070       0.030\n",
            "x205          -0.0225      0.026     -0.865      0.387      -0.074       0.029\n",
            "x206           0.1736      0.026      6.656      0.000       0.122       0.225\n",
            "x207           0.0280      0.027      1.050      0.294      -0.024       0.080\n",
            "x208          -0.0047      0.028     -0.169      0.866      -0.060       0.050\n",
            "x209        2.911e-05      0.026      0.001      0.999      -0.052       0.052\n",
            "x210           0.1238      0.026      4.690      0.000       0.072       0.176\n",
            "x211           0.0166      0.026      0.628      0.530      -0.035       0.068\n",
            "x212           0.0021      0.028      0.075      0.940      -0.052       0.056\n",
            "x213           0.0256      0.027      0.938      0.348      -0.028       0.079\n",
            "x214          -0.0021      0.028     -0.077      0.939      -0.057       0.053\n",
            "x215          -0.0193      0.037     -0.526      0.599      -0.091       0.053\n",
            "x216          -0.0064      0.026     -0.242      0.809      -0.058       0.045\n",
            "x217           0.0086      0.026      0.332      0.740      -0.042       0.059\n",
            "x218          -0.0688      0.028     -2.494      0.013      -0.123      -0.015\n",
            "x219           0.0317      0.027      1.186      0.235      -0.021       0.084\n",
            "x220           0.0440      0.028      1.581      0.114      -0.011       0.099\n",
            "x221           0.0486      0.028      1.741      0.082      -0.006       0.103\n",
            "x222           0.0427      0.027      1.603      0.109      -0.010       0.095\n",
            "x223           0.0326      0.027      1.218      0.223      -0.020       0.085\n",
            "x224          -0.0828      0.026     -3.175      0.002      -0.134      -0.032\n",
            "x225          -0.1857      0.028     -6.552      0.000      -0.241      -0.130\n",
            "x226           0.0349      0.028      1.227      0.220      -0.021       0.091\n",
            "x227           0.0318      0.030      1.055      0.291      -0.027       0.091\n",
            "x228           0.0092      0.028      0.326      0.745      -0.046       0.065\n",
            "x229           0.0230      0.026      0.872      0.383      -0.029       0.075\n",
            "x230           0.0277      0.027      1.038      0.299      -0.025       0.080\n",
            "x231        8.575e-05      0.027      0.003      0.997      -0.054       0.054\n",
            "x232          -0.0079      0.027     -0.293      0.769      -0.060       0.045\n",
            "x233          -0.0585      0.025     -2.308      0.021      -0.108      -0.009\n",
            "x234          -0.0729      0.030     -2.460      0.014      -0.131      -0.015\n",
            "x235           0.0108      0.026      0.410      0.682      -0.041       0.062\n",
            "x236           0.0616      0.026      2.336      0.020       0.010       0.113\n",
            "x237           0.1202      0.028      4.351      0.000       0.066       0.174\n",
            "x238          -0.1366      0.027     -5.007      0.000      -0.190      -0.083\n",
            "x239          -0.0371      0.028     -1.309      0.190      -0.093       0.018\n",
            "x240           0.0550      0.027      2.049      0.040       0.002       0.108\n",
            "x241           0.0313      0.029      1.091      0.275      -0.025       0.087\n",
            "x242           0.0559      0.029      1.962      0.050     6.1e-05       0.112\n",
            "x243           0.0282      0.025      1.114      0.265      -0.021       0.078\n",
            "x244           0.0192      0.028      0.685      0.494      -0.036       0.074\n",
            "x245          -0.0518      0.027     -1.942      0.052      -0.104       0.000\n",
            "x246          -0.2170      0.027     -7.914      0.000      -0.271      -0.163\n",
            "x247          -0.0018      0.027     -0.066      0.947      -0.055       0.051\n",
            "x248          -0.0737      0.028     -2.669      0.008      -0.128      -0.020\n",
            "x249          -0.0044      0.030     -0.145      0.885      -0.063       0.055\n",
            "x250           0.0251      0.028      0.898      0.369      -0.030       0.080\n",
            "x251           0.0610      0.027      2.262      0.024       0.008       0.114\n",
            "x252          -0.1055      0.028     -3.786      0.000      -0.160      -0.051\n",
            "x253           0.0235      0.026      0.890      0.374      -0.028       0.075\n",
            "x254           0.0049      0.027      0.183      0.855      -0.048       0.058\n",
            "x255          -0.0173      0.026     -0.664      0.506      -0.068       0.034\n",
            "x256           0.0171      0.027      0.635      0.526      -0.036       0.070\n",
            "x257           0.0223      0.026      0.842      0.400      -0.030       0.074\n",
            "x258           0.0349      0.031      1.127      0.260      -0.026       0.095\n",
            "x259           0.0137      0.028      0.482      0.630      -0.042       0.069\n",
            "x260          -0.1990      0.027     -7.386      0.000      -0.252      -0.146\n",
            "x261           0.0644      0.027      2.360      0.018       0.011       0.118\n",
            "x262          -0.0085      0.029     -0.297      0.766      -0.065       0.048\n",
            "x263           0.0137      0.027      0.509      0.611      -0.039       0.067\n",
            "x264          -0.0460      0.027     -1.710      0.087      -0.099       0.007\n",
            "x265           0.0219      0.027      0.809      0.419      -0.031       0.075\n",
            "x266           0.0842      0.032      2.630      0.009       0.021       0.147\n",
            "x267           0.0472      0.027      1.761      0.078      -0.005       0.100\n",
            "x268           0.0239      0.026      0.913      0.361      -0.027       0.075\n",
            "x269          -0.0455      0.034     -1.342      0.180      -0.112       0.021\n",
            "x270           0.0063      0.026      0.243      0.808      -0.044       0.057\n",
            "x271           0.0125      0.029      0.430      0.667      -0.044       0.069\n",
            "x272           0.0454      0.030      1.535      0.125      -0.013       0.103\n",
            "x273          -0.0162      0.026     -0.628      0.530      -0.067       0.034\n",
            "x274           0.1210      0.023      5.250      0.000       0.076       0.166\n",
            "x275           0.0177      0.028      0.623      0.533      -0.038       0.073\n",
            "x276           0.0862      0.027      3.230      0.001       0.034       0.139\n",
            "x277           0.0232      0.028      0.843      0.399      -0.031       0.077\n",
            "x278          -0.1123      0.033     -3.450      0.001      -0.176      -0.049\n",
            "x279           0.0524      0.024      2.188      0.029       0.005       0.099\n",
            "x280           0.0319      0.025      1.271      0.204      -0.017       0.081\n",
            "x281          -0.0288      0.026     -1.090      0.276      -0.081       0.023\n",
            "x282           0.0150      0.027      0.546      0.585      -0.039       0.069\n",
            "x283           0.0468      0.027      1.758      0.079      -0.005       0.099\n",
            "x284          -0.0083      0.029     -0.289      0.773      -0.064       0.048\n",
            "x285          -0.0052      0.028     -0.185      0.853      -0.060       0.050\n",
            "x286           0.0947      0.027      3.568      0.000       0.043       0.147\n",
            "x287          -0.0364      0.027     -1.361      0.174      -0.089       0.016\n",
            "x288          -0.0152      0.027     -0.566      0.571      -0.068       0.037\n",
            "x289          -0.0518      0.029     -1.810      0.070      -0.108       0.004\n",
            "x290           0.0793      0.028      2.861      0.004       0.025       0.134\n",
            "x291          -0.0040      0.027     -0.147      0.883      -0.057       0.049\n",
            "x292           0.0101      0.029      0.351      0.726      -0.046       0.066\n",
            "x293          -0.1707      0.027     -6.213      0.000      -0.224      -0.117\n",
            "x294           0.0233      0.029      0.816      0.414      -0.033       0.079\n",
            "x295          -0.0777      0.028     -2.769      0.006      -0.133      -0.023\n",
            "x296           0.0075      0.029      0.257      0.797      -0.050       0.065\n",
            "x297           0.0217      0.027      0.808      0.419      -0.031       0.074\n",
            "x298          -0.0455      0.027     -1.683      0.092      -0.099       0.007\n",
            "x299           0.0997      0.028      3.593      0.000       0.045       0.154\n",
            "x300          -0.0119      0.029     -0.406      0.685      -0.069       0.045\n",
            "x301          -0.0732      0.027     -2.676      0.007      -0.127      -0.020\n",
            "x302           0.0047      0.025      0.192      0.848      -0.043       0.053\n",
            "x303          -0.0130      0.034     -0.388      0.698      -0.079       0.053\n",
            "x304           0.0760      0.036      2.101      0.036       0.005       0.147\n",
            "x305          -0.0148      0.026     -0.559      0.576      -0.067       0.037\n",
            "x306           0.0690      0.027      2.559      0.011       0.016       0.122\n",
            "x307           0.0852      0.026      3.260      0.001       0.034       0.136\n",
            "x308          -0.0537      0.027     -2.018      0.044      -0.106      -0.002\n",
            "x309          -0.0204      0.029     -0.704      0.481      -0.077       0.036\n",
            "x310          -0.0676      0.028     -2.458      0.014      -0.122      -0.014\n",
            "x311          -0.0815      0.026     -3.163      0.002      -0.132      -0.031\n",
            "x312          -0.0030      0.028     -0.109      0.913      -0.058       0.052\n",
            "x313          -0.0882      0.027     -3.210      0.001      -0.142      -0.034\n",
            "x314           0.0642      0.028      2.309      0.021       0.010       0.119\n",
            "x315           0.0122      0.027      0.456      0.649      -0.040       0.064\n",
            "x316          -0.0257      0.026     -0.974      0.330      -0.077       0.026\n",
            "x317           0.0858      0.026      3.266      0.001       0.034       0.137\n",
            "x318          -0.0546      0.028     -1.963      0.050      -0.109   -6.52e-05\n",
            "x319          -0.1416      0.027     -5.224      0.000      -0.195      -0.088\n",
            "x320           0.0567      0.028      2.004      0.045       0.001       0.112\n",
            "x321           0.0779      0.027      2.888      0.004       0.025       0.131\n",
            "x322          -0.0169      0.027     -0.615      0.538      -0.071       0.037\n",
            "x323           0.0109      0.028      0.395      0.692      -0.043       0.065\n",
            "x324          -0.0329      0.028     -1.172      0.241      -0.088       0.022\n",
            "x325           0.1214      0.033      3.699      0.000       0.057       0.186\n",
            "x326           0.1275      0.029      4.469      0.000       0.072       0.183\n",
            "x327           0.0316      0.026      1.205      0.228      -0.020       0.083\n",
            "x328           0.0576      0.027      2.099      0.036       0.004       0.111\n",
            "x329           0.0507      0.027      1.855      0.064      -0.003       0.104\n",
            "x330          -0.0704      0.027     -2.577      0.010      -0.124      -0.017\n",
            "x331           0.0319      0.026      1.224      0.221      -0.019       0.083\n",
            "x332           0.0359      0.027      1.317      0.188      -0.018       0.089\n",
            "x333           0.0106      0.026      0.405      0.685      -0.040       0.062\n",
            "x334           0.0334      0.028      1.180      0.238      -0.022       0.089\n",
            "x335          -0.0178      0.028     -0.635      0.525      -0.073       0.037\n",
            "x336          -0.0438      0.029     -1.509      0.131      -0.101       0.013\n",
            "x337           0.1159      0.027      4.278      0.000       0.063       0.169\n",
            "x338           0.0119      0.027      0.438      0.661      -0.041       0.065\n",
            "x339           0.0240      0.028      0.859      0.390      -0.031       0.079\n",
            "x340          -0.0990      0.028     -3.499      0.000      -0.154      -0.044\n",
            "x341           0.0343      0.027      1.252      0.211      -0.019       0.088\n",
            "x342          -0.1988      0.026     -7.536      0.000      -0.251      -0.147\n",
            "x343          -0.0192      0.024     -0.792      0.428      -0.067       0.028\n",
            "x344          -0.0516      0.027     -1.900      0.057      -0.105       0.002\n",
            "x345          -0.1023      0.027     -3.758      0.000      -0.156      -0.049\n",
            "x346           0.0299      0.026      1.133      0.257      -0.022       0.082\n",
            "x347          -0.1454      0.028     -5.218      0.000      -0.200      -0.091\n",
            "x348          -0.0180      0.028     -0.631      0.528      -0.074       0.038\n",
            "x349           0.0746      0.027      2.807      0.005       0.022       0.127\n",
            "x350           0.0029      0.027      0.108      0.914      -0.050       0.056\n",
            "x351           0.0106      0.027      0.393      0.694      -0.042       0.064\n",
            "x352          -0.0369      0.027     -1.368      0.171      -0.090       0.016\n",
            "x353           0.0559      0.031      1.802      0.072      -0.005       0.117\n",
            "x354           0.0012      0.028      0.041      0.967      -0.054       0.057\n",
            "x355          -0.0403      0.028     -1.437      0.151      -0.095       0.015\n",
            "x356           0.0482      0.027      1.817      0.069      -0.004       0.100\n",
            "x357          -0.0132      0.028     -0.474      0.636      -0.068       0.041\n",
            "x358          -0.0753      0.044     -1.728      0.084      -0.161       0.010\n",
            "x359           0.0155      0.027      0.578      0.563      -0.037       0.068\n",
            "x360           0.0107      0.025      0.423      0.672      -0.039       0.061\n",
            "x361          -0.2235      0.028     -8.117      0.000      -0.277      -0.170\n",
            "x362          -0.0016      0.027     -0.061      0.952      -0.055       0.051\n",
            "x363           0.0209      0.026      0.815      0.415      -0.029       0.071\n",
            "x364           0.0057      0.028      0.207      0.836      -0.049       0.060\n",
            "x365          -0.1076      0.027     -4.046      0.000      -0.160      -0.055\n",
            "x366          -0.0864      0.027     -3.153      0.002      -0.140      -0.033\n",
            "x367           0.1069      0.029      3.659      0.000       0.050       0.164\n",
            "x368           0.0084      0.026      0.320      0.749      -0.043       0.060\n",
            "x369           0.0006      0.027      0.021      0.984      -0.052       0.053\n",
            "x370           0.0200      0.027      0.738      0.460      -0.033       0.073\n",
            "x371          -0.1163      0.039     -2.959      0.003      -0.193      -0.039\n",
            "x372          -0.0152      0.028     -0.533      0.594      -0.071       0.041\n",
            "x373           0.0234      0.026      0.891      0.373      -0.028       0.075\n",
            "x374          -0.0604      0.027     -2.264      0.024      -0.113      -0.008\n",
            "x375           0.0221      0.027      0.809      0.419      -0.031       0.076\n",
            "x376          -0.0419      0.028     -1.490      0.136      -0.097       0.013\n",
            "x377          -0.0495      0.028     -1.797      0.072      -0.103       0.004\n",
            "x378          -0.0083      0.028     -0.292      0.771      -0.064       0.047\n",
            "x379           0.0482      0.028      1.749      0.080      -0.006       0.102\n",
            "x380          -0.0272      0.024     -1.112      0.266      -0.075       0.021\n",
            "x381           0.0485      0.034      1.426      0.154      -0.018       0.115\n",
            "x382          -0.0238      0.026     -0.899      0.369      -0.076       0.028\n",
            "x383           0.0524      0.028      1.867      0.062      -0.003       0.108\n",
            "x384           0.0033      0.025      0.130      0.897      -0.047       0.053\n",
            "x385           0.0406      0.029      1.391      0.164      -0.017       0.098\n",
            "x386          -0.0605      0.028     -2.152      0.031      -0.116      -0.005\n",
            "x387           0.0143      0.028      0.511      0.610      -0.041       0.069\n",
            "x388          -0.0191      0.029     -0.665      0.506      -0.075       0.037\n",
            "x389           0.0659      0.028      2.382      0.017       0.012       0.120\n",
            "x390           0.1347      0.028      4.805      0.000       0.080       0.190\n",
            "x391           0.2660      0.028      9.563      0.000       0.211       0.320\n",
            "x392          -0.0012      0.028     -0.045      0.964      -0.055       0.053\n",
            "x393           0.0349      0.029      1.201      0.230      -0.022       0.092\n",
            "x394          -0.1311      0.032     -4.077      0.000      -0.194      -0.068\n",
            "x395           0.0131      0.026      0.513      0.608      -0.037       0.063\n",
            "x396          -0.0929      0.028     -3.349      0.001      -0.147      -0.039\n",
            "x397          -0.0438      0.027     -1.624      0.104      -0.097       0.009\n",
            "x398          -0.0967      0.027     -3.564      0.000      -0.150      -0.043\n",
            "x399          -0.0852      0.026     -3.258      0.001      -0.136      -0.034\n",
            "x400          -0.0535      0.026     -2.035      0.042      -0.105      -0.002\n",
            "x401          -0.0200      0.027     -0.732      0.464      -0.074       0.034\n",
            "x402           0.0048      0.032      0.153      0.879      -0.057       0.067\n",
            "x403          -0.0167      0.025     -0.662      0.508      -0.066       0.033\n",
            "x404          -0.0737      0.032     -2.269      0.023      -0.137      -0.010\n",
            "x405           0.1522      0.026      5.859      0.000       0.101       0.203\n",
            "x406          -0.0513      0.027     -1.881      0.060      -0.105       0.002\n",
            "x407           0.0547      0.027      2.048      0.041       0.002       0.107\n",
            "x408          -0.0210      0.027     -0.793      0.428      -0.073       0.031\n",
            "x409          -0.0400      0.048     -0.831      0.406      -0.134       0.054\n",
            "x410          -0.0480      0.031     -1.563      0.118      -0.108       0.012\n",
            "x411          -0.0336      0.028     -1.203      0.229      -0.088       0.021\n",
            "x412          -0.0099      0.029     -0.345      0.730      -0.066       0.046\n",
            "x413          -0.0126      0.031     -0.405      0.685      -0.074       0.048\n",
            "x414          -0.0406      0.026     -1.552      0.121      -0.092       0.011\n",
            "x415           0.0662      0.027      2.464      0.014       0.014       0.119\n",
            "x416          -0.0222      0.027     -0.823      0.410      -0.075       0.031\n",
            "x417           0.1768      0.028      6.398      0.000       0.123       0.231\n",
            "x418           0.1275      0.025      5.010      0.000       0.078       0.177\n",
            "x419           0.0095      0.025      0.377      0.706      -0.040       0.059\n",
            "x420          -0.0146      0.027     -0.550      0.582      -0.067       0.038\n",
            "x421          -0.0327      0.027     -1.213      0.225      -0.086       0.020\n",
            "x422          -0.0032      0.028     -0.115      0.908      -0.057       0.051\n",
            "x423          -0.0518      0.029     -1.758      0.079      -0.110       0.006\n",
            "x424           0.0210      0.023      0.894      0.372      -0.025       0.067\n",
            "x425           0.0804      0.028      2.846      0.004       0.025       0.136\n",
            "x426          -0.0303      0.031     -0.984      0.325      -0.091       0.030\n",
            "x427          -0.0981      0.026     -3.763      0.000      -0.149      -0.047\n",
            "x428          -0.1156      0.028     -4.180      0.000      -0.170      -0.061\n",
            "x429           0.0640      0.028      2.260      0.024       0.008       0.120\n",
            "x430           0.0039      0.027      0.141      0.888      -0.050       0.058\n",
            "x431          -0.0973      0.026     -3.691      0.000      -0.149      -0.046\n",
            "x432           0.0341      0.026      1.336      0.181      -0.016       0.084\n",
            "x433           0.0552      0.027      2.036      0.042       0.002       0.108\n",
            "x434          -0.0028      0.029     -0.098      0.922      -0.059       0.054\n",
            "x435          -0.0172      0.027     -0.633      0.527      -0.071       0.036\n",
            "x436           0.0159      0.027      0.594      0.552      -0.037       0.068\n",
            "x437          -0.1185      0.029     -4.047      0.000      -0.176      -0.061\n",
            "x438          -0.0713      0.027     -2.684      0.007      -0.123      -0.019\n",
            "x439           0.0485      0.027      1.790      0.073      -0.005       0.102\n",
            "x440          -0.0043      0.028     -0.155      0.877      -0.059       0.050\n",
            "x441           0.0422      0.026      1.634      0.102      -0.008       0.093\n",
            "x442           0.0289      0.025      1.147      0.251      -0.020       0.078\n",
            "x443           0.0253      0.027      0.932      0.351      -0.028       0.078\n",
            "x444           0.0653      0.037      1.756      0.079      -0.008       0.138\n",
            "x445           0.0384      0.029      1.322      0.186      -0.019       0.095\n",
            "x446           0.0810      0.028      2.881      0.004       0.026       0.136\n",
            "x447           0.0512      0.030      1.731      0.083      -0.007       0.109\n",
            "x448           0.0463      0.025      1.850      0.064      -0.003       0.095\n",
            "x449          -0.0128      0.025     -0.509      0.611      -0.062       0.037\n",
            "x450          -0.0161      0.027     -0.601      0.548      -0.069       0.036\n",
            "x451          -0.0025      0.026     -0.099      0.921      -0.053       0.048\n",
            "x452          -0.1823      0.027     -6.653      0.000      -0.236      -0.129\n",
            "x453          -0.0815      0.026     -3.163      0.002      -0.132      -0.031\n",
            "x454          -0.1061      0.026     -4.044      0.000      -0.158      -0.055\n",
            "x455          -0.0157      0.027     -0.575      0.565      -0.069       0.038\n",
            "x456           0.0250      0.027      0.918      0.358      -0.028       0.078\n",
            "x457          -0.0224      0.030     -0.742      0.458      -0.082       0.037\n",
            "x458           0.0778      0.027      2.850      0.004       0.024       0.131\n",
            "x459          -0.0484      0.028     -1.738      0.082      -0.103       0.006\n",
            "x460           0.0320      0.026      1.218      0.223      -0.019       0.084\n",
            "x461          -0.0123      0.029     -0.427      0.669      -0.069       0.044\n",
            "x462          -0.0081      0.027     -0.294      0.768      -0.062       0.046\n",
            "x463           0.0080      0.031      0.260      0.795      -0.052       0.068\n",
            "x464          -0.0315      0.029     -1.090      0.276      -0.088       0.025\n",
            "x465           0.0248      0.028      0.881      0.378      -0.030       0.080\n",
            "x466          -0.0027      0.026     -0.101      0.919      -0.055       0.049\n",
            "x467          -0.1173      0.035     -3.354      0.001      -0.186      -0.049\n",
            "x468           0.0125      0.027      0.467      0.641      -0.040       0.065\n",
            "x469           0.0203      0.028      0.725      0.468      -0.035       0.075\n",
            "x470           0.0303      0.034      0.895      0.371      -0.036       0.097\n",
            "x471           0.0753      0.029      2.613      0.009       0.019       0.132\n",
            "x472           0.0509      0.028      1.824      0.068      -0.004       0.106\n",
            "x473          -0.0227      0.027     -0.849      0.396      -0.075       0.030\n",
            "x474          -0.0918      0.027     -3.392      0.001      -0.145      -0.039\n",
            "x475           0.0361      0.026      1.398      0.162      -0.015       0.087\n",
            "x476           0.0148      0.027      0.546      0.585      -0.038       0.068\n",
            "x477           0.0615      0.027      2.317      0.021       0.009       0.113\n",
            "x478           0.0325      0.028      1.146      0.252      -0.023       0.088\n",
            "x479          -0.0038      0.029     -0.130      0.896      -0.060       0.053\n",
            "x480           0.0175      0.027      0.642      0.521      -0.036       0.071\n",
            "x481           0.0694      0.027      2.571      0.010       0.016       0.122\n",
            "x482          -0.0143      0.029     -0.487      0.626      -0.072       0.043\n",
            "x483           0.0416      0.027      1.558      0.119      -0.011       0.094\n",
            "x484           0.0392      0.031      1.249      0.212      -0.022       0.101\n",
            "x485          -0.0317      0.027     -1.182      0.237      -0.084       0.021\n",
            "x486          -0.0263      0.027     -0.985      0.325      -0.079       0.026\n",
            "x487          -0.0317      0.028     -1.141      0.254      -0.086       0.023\n",
            "x488          -0.0169      0.027     -0.619      0.536      -0.070       0.037\n",
            "x489           0.0993      0.027      3.694      0.000       0.047       0.152\n",
            "x490          -0.0658      0.026     -2.511      0.012      -0.117      -0.014\n",
            "x491           0.0407      0.026      1.540      0.124      -0.011       0.092\n",
            "x492          -0.0243      0.028     -0.878      0.380      -0.079       0.030\n",
            "x493          -0.1348      0.029     -4.686      0.000      -0.191      -0.078\n",
            "x494           0.0064      0.027      0.238      0.812      -0.046       0.059\n",
            "x495          -0.0506      0.028     -1.777      0.076      -0.106       0.005\n",
            "x496          -0.0016      0.027     -0.062      0.951      -0.054       0.051\n",
            "x497          -0.0378      0.023     -1.659      0.097      -0.082       0.007\n",
            "x498          -0.0298      0.028     -1.075      0.283      -0.084       0.025\n",
            "x499          -0.0527      0.028     -1.897      0.058      -0.107       0.002\n",
            "x500          -0.0211      0.027     -0.776      0.438      -0.075       0.032\n",
            "==============================================================================\n",
            "Omnibus:                     1696.079   Durbin-Watson:                   0.805\n",
            "Prob(Omnibus):                  0.000   Jarque-Bera (JB):              422.097\n",
            "Skew:                           0.034   Prob(JB):                     2.20e-92\n",
            "Kurtosis:                       2.102   Cond. No.                         6.63\n",
            "==============================================================================\n",
            "\n",
            "Notes:\n",
            "[1] Standard Errors assume that the covariance matrix of the errors is correctly specified.\n"
          ]
        }
      ]
    },
    {
      "cell_type": "markdown",
      "source": [
        "comparing with lasso and ridge"
      ],
      "metadata": {
        "id": "0EaVDqsdRvyw"
      }
    },
    {
      "cell_type": "code",
      "source": [
        "from sklearn.linear_model import Ridge\n",
        "import numpy as np\n",
        "from sklearn.metrics import mean_squared_error\n",
        "from sklearn.metrics import r2_score\n",
        "\n",
        "xx = X_train_cat\n",
        "yy = Y_train_cat\n",
        "\n",
        "rr = Ridge(alpha=0.01)\n",
        "rr.fit(xx, yy) \n",
        "pred_train_rr = rr.predict(xx)\n",
        "print(np.sqrt(mean_squared_error(yy,pred_train_rr)))\n",
        "print(r2_score(yy, pred_train_rr))\n",
        "print(\"---------------\")\n",
        "pred_test_rr = rr.predict(X_test)\n",
        "print(np.sqrt(mean_squared_error(Y_test,pred_test_rr))) \n",
        "print(r2_score(Y_test, pred_test_rr))\n",
        "r2_score_ridge = r2_score(Y_test, pred_test_rr)\n"
      ],
      "metadata": {
        "colab": {
          "base_uri": "https://localhost:8080/"
        },
        "id": "6SipZPEvR9i-",
        "outputId": "5d3f6eb3-8118-4ec6-8ed5-65f383e6105b"
      },
      "execution_count": 85,
      "outputs": [
        {
          "output_type": "stream",
          "name": "stdout",
          "text": [
            "0.4072518649869276\n",
            "0.33658367385867705\n",
            "---------------\n",
            "0.42657717680244633\n",
            "0.27212764892501784\n"
          ]
        }
      ]
    },
    {
      "cell_type": "markdown",
      "source": [
        "## Plots of Logistic *Regression*"
      ],
      "metadata": {
        "id": "d8GzrHk_xV3q"
      }
    },
    {
      "cell_type": "markdown",
      "source": [
        "Horizontal Bar"
      ],
      "metadata": {
        "id": "Z7j4xRIJcwpc"
      }
    },
    {
      "cell_type": "code",
      "source": [
        "from numpy.core.multiarray import concatenate\n",
        "import matplotlib.pyplot as plt\n",
        "z1_sort_index = z1[:].argsort()\n",
        "z1_sort_index = z1_sort_index.reshape((1734))\n",
        "z1_top10_neg = z1[z1_sort_index[0:10]]\n",
        "z1_top10_pos = z1[z1_sort_index[1724:1734]]\n",
        "\n",
        "z1_top20_X = np.concatenate([z1_top10_neg, z1_top10_pos])\n",
        "feature_df = pd.DataFrame(open(home_dir + \"aclImdb/imdb.vocab\",\"r\"))\n",
        "z1_sort_index_top20 = z1_sort_index[np.r_[0:10,1724:1734]]\n",
        "feature_top20_Y = feature_df.iloc[z1_sort_index_top20]\n",
        "\n",
        "plt.barh(list(feature_top20_Y[0]),z1_top20_X)\n",
        "plt.title('')\n",
        "plt.ylabel('z scores')\n",
        "plt.xlabel('features')\n",
        "plt.show()"
      ],
      "metadata": {
        "id": "NM5FDLvMct0R",
        "colab": {
          "base_uri": "https://localhost:8080/",
          "height": 279
        },
        "outputId": "8b712859-736c-4f65-b2f6-0369a7aaf7fe"
      },
      "execution_count": 86,
      "outputs": [
        {
          "output_type": "display_data",
          "data": {
            "text/plain": [
              "<Figure size 432x288 with 1 Axes>"
            ],
            "image/png": "[encoded data removed]"
          },
          "metadata": {
            "needs_background": "light"
          }
        }
      ]
    },
    {
      "cell_type": "markdown",
      "source": [
        "ROC curves"
      ],
      "metadata": {
        "id": "-B4efZved3dc"
      }
    },
    {
      "cell_type": "code",
      "source": [
        "from sklearn.metrics import roc_curve, roc_auc_score\n",
        "from sklearn.neighbors import KNeighborsClassifier\n",
        "from sklearn.linear_model import LinearRegression\n",
        "\n",
        "models = [KNeighborsClassifier()]\n",
        "\n",
        "perf = {}\n",
        "\n",
        "# our implementation is slow you may try sklearn version\n",
        "logitreg = LogisticRegression(max_iters=1e3)\n",
        "fit = logitreg.fit(X_train_cat, Y_train_cat)\n",
        "y_test_prob = fit.predict(X_test)\n",
        "fpr, tpr, _ = roc_curve(Y_test, y_test_prob)\n",
        "auroc = roc_auc_score(Y_test, y_test_prob)\n",
        "perf[\"LogisticRegression (ours)\"] = {'fpr':fpr, 'tpr':tpr, 'auroc':auroc}\n",
        "\n",
        "for model in models:\n",
        "    fit = model.fit(X_train_cat, Y_train_cat)\n",
        "    y_test_prob = fit.predict_proba(X_test)[:,0]\n",
        "    fpr, tpr, _ = roc_curve(Y_test, y_test_prob)\n",
        "    auroc = roc_auc_score(Y_test, y_test_prob)\n",
        "    if type(model).__name__ == \"LogisticRegression\":\n",
        "        perf[\"LogisticRegression (sklearn)\"] = {'fpr':fpr,'tpr':tpr,'auroc':auroc}\n",
        "    else:\n",
        "        perf[type(model).__name__] = {'fpr':fpr,'tpr':tpr,'auroc':auroc}\n",
        "\n",
        "\n",
        "plt.clf()\n",
        "i = 0\n",
        "for model_name, model_perf in perf.items():\n",
        "    plt.plot(model_perf['fpr'], model_perf['tpr'],label=model_name)\n",
        "    plt.text(0.4, i+0.1, model_name + ': AUC = '+ str(round(model_perf['auroc'],2)))\n",
        "    i += 0.1\n",
        "\n",
        "plt.plot([0, 1], [0, 1], color=\"navy\", lw=2, linestyle=\"--\")\n",
        "plt.xlim([0.0, 1.0])\n",
        "plt.ylim([0.0, 1.05])\n",
        "\n",
        "plt.xlabel(\"False Positive Rate\")\n",
        "plt.ylabel(\"True Positive Rate\")\n",
        "plt.title('ROC in predicting IMDB')\n",
        "plt.legend(bbox_to_anchor=(1.04, 0.5), loc=\"upper left\")\n",
        "# plt.show()\n",
        "plt.savefig(\"roc_curve.png\", bbox_inches='tight', dpi=300)\n",
        "# plt.close()"
      ],
      "metadata": {
        "id": "Dq3sf5yRd_eN",
        "colab": {
          "base_uri": "https://localhost:8080/",
          "height": 295
        },
        "outputId": "9ad9c8fb-b6ec-4aca-9b16-ef54009aa942"
      },
      "execution_count": 87,
      "outputs": [
        {
          "output_type": "display_data",
          "data": {
            "text/plain": [
              "<Figure size 432x288 with 1 Axes>"
            ],
            "image/png": "[encoded data removed]"
          },
          "metadata": {
            "needs_background": "light"
          }
        }
      ]
    },
    {
      "cell_type": "markdown",
      "source": [
        "AUROC"
      ],
      "metadata": {
        "id": "00vYOV4Ld-j0"
      }
    },
    {
      "cell_type": "code",
      "source": [
        "from sklearn import metrics\n",
        "from sklearn.neighbors import KNeighborsClassifier\n",
        "from sklearn.model_selection import train_test_split\n",
        "\n",
        "split_rate = [0.2,0.4,0.6,0.8]\n",
        "logreg_list = []\n",
        "KNN_list = []\n",
        "for i in split_rate:\n",
        "  AUROC_X_train, AUROC_X_test, AUROC_y_train, AUROC_y_test = train_test_split(X_train, Y_train, train_size=i,test_size=1-i)\n",
        "  #logistic regression\n",
        "  logitreg = LogisticRegression(max_iters=1e-3)\n",
        "  logitreg.fit(AUROC_X_train, AUROC_y_train)\n",
        "  y_test_prob = logitreg.predict(X_test)\n",
        "\n",
        "\n",
        "  fpr, tpr, thresholds = metrics.roc_curve(Y_test, y_test_prob)\n",
        "  # print(metrics.auc(fpr, tpr))\n",
        "  logreg_list.append(metrics.auc(fpr, tpr))\n",
        "  #---------------------------------\n",
        "  #KNN\n",
        "  KNN_fit = KNeighborsClassifier().fit(AUROC_X_test,AUROC_y_test)\n",
        "  KNN_y_test_prob = KNN_fit.predict_proba(X_test)[:,0]\n",
        "  KNN_fpr, KNN_tpr, KNN_thresholds = metrics.roc_curve(Y_test, KNN_y_test_prob)\n",
        "  KNN_list.append(metrics.auc(KNN_fpr, KNN_tpr))\n",
        "\n",
        "#when we use 100% data train\n",
        "split_rate.append(1.0)\n",
        "logitreg.fit(AUROC_X_train, AUROC_y_train)\n",
        "y_test_prob = logitreg.predict(X_test)\n",
        "fpr, tpr, thresholds = metrics.roc_curve(Y_test, y_test_prob)\n",
        "logreg_list.append(metrics.auc(fpr, tpr))\n",
        "\n",
        "KNN_fit = KNeighborsClassifier().fit(AUROC_X_test,AUROC_y_test)\n",
        "KNN_y_test_prob = KNN_fit.predict_proba(X_test)[:,0]\n",
        "KNN_fpr, KNN_tpr, KNN_thresholds = metrics.roc_curve(Y_test, KNN_y_test_prob)\n",
        "KNN_list.append(metrics.auc(KNN_fpr, KNN_tpr))\n",
        "\n"
      ],
      "metadata": {
        "id": "lhxtZB71lsO7"
      },
      "execution_count": 88,
      "outputs": []
    },
    {
      "cell_type": "code",
      "source": [
        "X_axis = [\"0.2\",\"0.4\",\"0.6\",\"0.8\",\"1.0\"]\n",
        "AUROC_DF = pd.DataFrame({'logreg':logreg_list,'KNN':KNN_list, \"X\":X_axis})\n",
        "\n",
        "print(AUROC_DF.shape)\n",
        "# AUROC_DF.index = X_axis\n",
        "# print(AUROC_DF.index)\n",
        "print(AUROC_DF.loc[:,\"logreg\"])\n",
        "print(AUROC_DF.loc[:,\"KNN\"])\n",
        "AUROC_DF.plot(x=\"X\", y=[\"logreg\",\"KNN\"],kind=\"bar\")\n",
        "\n",
        "plt.show()"
      ],
      "metadata": {
        "id": "srcr1Pv1lwmd",
        "colab": {
          "base_uri": "https://localhost:8080/",
          "height": 517
        },
        "outputId": "634d46f5-1fa7-4047-d756-7a85b1fe3784"
      },
      "execution_count": 89,
      "outputs": [
        {
          "output_type": "stream",
          "name": "stdout",
          "text": [
            "(5, 3)\n",
            "0    0.818487\n",
            "1    0.824831\n",
            "2    0.825372\n",
            "3    0.823001\n",
            "4    0.823001\n",
            "Name: logreg, dtype: float64\n",
            "0    0.356439\n",
            "1    0.354101\n",
            "2    0.353712\n",
            "3    0.372217\n",
            "4    0.372217\n",
            "Name: KNN, dtype: float64\n"
          ]
        },
        {
          "output_type": "display_data",
          "data": {
            "text/plain": [
              "<Figure size 432x288 with 1 Axes>"
            ],
            "image/png": "[encoded data removed]"
          },
          "metadata": {
            "needs_background": "light"
          }
        }
      ]
    },
    {
      "cell_type": "markdown",
      "source": [
        "Horizontal Bar from logistic regression"
      ],
      "metadata": {
        "id": "9hiVABPyvcQl"
      }
    },
    {
      "cell_type": "code",
      "source": [
        "fit_logreg_features = logitreg.fit(X_train, Y_train)\n",
        "weight = logitreg.w \n",
        "weight_sort_index = weight[:].argsort()\n",
        "weight_sort_index\n",
        "weight_top10_neg = weight[weight_sort_index[0:10]]\n",
        "weight_top10_pos = weight[weight_sort_index[-10:-1]]\n",
        "\n",
        "weight_top20_X = np.concatenate([weight_top10_neg, weight_top10_pos])\n",
        "feature_df_new = pd.DataFrame(open(home_dir + \"aclImdb/imdb.vocab\",\"r\"))\n",
        "weight_sort_index_top20 = z1_sort_index[np.r_[0:10,-10:-1]]\n",
        "feature_top20_Y_new = feature_df_new.iloc[weight_sort_index_top20]\n",
        "\n",
        "plt.barh(list(feature_top20_Y_new[0]),weight_top20_X)\n",
        "plt.title('')\n",
        "plt.ylabel('weight')\n",
        "plt.xlabel('features')\n",
        "plt.show()"
      ],
      "metadata": {
        "id": "YovuWyHIu5n2",
        "colab": {
          "base_uri": "https://localhost:8080/",
          "height": 279
        },
        "outputId": "2a7bd1b7-54e2-4dfe-f048-9f3719ab0791"
      },
      "execution_count": 90,
      "outputs": [
        {
          "output_type": "display_data",
          "data": {
            "text/plain": [
              "<Figure size 432x288 with 1 Axes>"
            ],
            "image/png": "[encoded data removed]"
          },
          "metadata": {
            "needs_background": "light"
          }
        }
      ]
    },
    {
      "cell_type": "markdown",
      "source": [
        "# Implement and evaluate Multiclass Regression on the 20 new groups data"
      ],
      "metadata": {
        "id": "MqD0SLn5Hce9"
      }
    },
    {
      "cell_type": "markdown",
      "source": [
        "## Data Processing on 20 news groups: a multi-class labelled textual dataset\n",
        "\n",
        "\n"
      ],
      "metadata": {
        "id": "AW0wP8Dww--K"
      }
    },
    {
      "cell_type": "code",
      "source": [
        "# load data \n",
        "import pandas as pd\n",
        "from sklearn.datasets import fetch_20newsgroups\n",
        "from keras.utils.np_utils import to_categorical  \n",
        "from sklearn.feature_extraction.text import CountVectorizer\n",
        "from sklearn import preprocessing\n",
        "import numpy as np\n",
        "import warnings\n",
        "warnings.filterwarnings('ignore')\n",
        "\n",
        "# fetch 20 newsgroups dataset\n",
        "categories = [ 'comp.graphics', 'rec.sport.hockey', 'sci.med', 'soc.religion.christian']\n",
        "twenty_train = fetch_20newsgroups(subset='train', remove=(['headers', 'footers', 'quotes']),categories=categories)\n",
        "twenty_test = fetch_20newsgroups(subset='test', remove=(['headers', 'footers', 'quotes']),categories=categories)"
      ],
      "metadata": {
        "id": "lKd48Py2fDRr"
      },
      "execution_count": 91,
      "outputs": []
    },
    {
      "cell_type": "code",
      "source": [
        "\n",
        "count_vect = CountVectorizer(stop_words='english', min_df=0.01, max_df=0.5)\n",
        "\n",
        "X_train_counts = count_vect.fit_transform(twenty_train.data)\n",
        "X_test_counts = count_vect.transform(twenty_test.data)\n",
        "\n",
        "X_train_counts = X_train_counts.toarray()\n",
        "X_test_counts = X_test_counts.toarray()\n",
        "\n",
        "#X_train_counts = preprocessing.scale(X_train_counts)\n",
        "#X_test_counts = preprocessing.scale(X_test_counts)\n",
        "X_train_counts = 10*(X_train_counts-np.min(X_train_counts))/(np.max(X_train_counts)-np.min(X_train_counts))\n",
        "X_test_counts = 10*(X_test_counts-np.min(X_test_counts))/(np.max(X_test_counts)-np.min(X_test_counts))\n",
        "\n",
        "Y_train = to_categorical(twenty_train.target, num_classes=4)\n",
        "Y_test = to_categorical(twenty_test.target, num_classes=4)\n",
        "twenty_train.target"
      ],
      "metadata": {
        "id": "M-4ltonOPG9V",
        "colab": {
          "base_uri": "https://localhost:8080/"
        },
        "outputId": "dccefe00-5981-4ea5-9e25-31f8d36b4feb"
      },
      "execution_count": 92,
      "outputs": [
        {
          "output_type": "execute_result",
          "data": {
            "text/plain": [
              "array([2, 3, 0, ..., 2, 1, 3])"
            ]
          },
          "metadata": {},
          "execution_count": 92
        }
      ]
    },
    {
      "cell_type": "code",
      "source": [
        "from sklearn.metrics import mutual_info_score\n",
        "\n",
        "'''get selected x train '''\n",
        "#X_train_array = X_train_counts.toarray() # shape (2257, 28865)\n",
        "#X_train_selected = X_train_array[:, top_ind]\n",
        "''' use MI to select features'''\n",
        "\n",
        "# get one-hot-encoding for 4 y's\n",
        "num_cat = 20\n",
        "num_instance, num_feature = X_train_counts.shape\n",
        " \n",
        "Y_array = np.zeros((num_cat, num_instance))\n",
        "\n",
        "for i in range(0,4):\n",
        "  Y_array[i] = [row[i] for row in Y_train]\n",
        "\n",
        "  X_train_t = X_train_counts.transpose()   # x transpose\n",
        "\n",
        "mi = np.zeros((num_cat, num_feature))\n",
        "\n",
        "# loop every y \n",
        "for i in range(0,4):\n",
        "      # loop every feature in x\n",
        "  for k in range(0, np.shape(X_train_t)[0]): \n",
        "        \n",
        "      mi[i][k] = mutual_info_score(X_train_t[k,:] , Y_array[i,:])   # mi score matrix where row is y, col is feature"
      ],
      "metadata": {
        "id": "ElOUhRsVuWSW"
      },
      "execution_count": 93,
      "outputs": []
    },
    {
      "cell_type": "code",
      "source": [
        "    \n",
        "# get top 100 features for each y category\n",
        "# sort every row of mi matrix\n",
        "\n",
        "features = []\n",
        "for i in range(0,4):\n",
        "  row = mi[i,:]\n",
        "  row_sorted = np.argsort(row)[::-1]\n",
        "  row_top = row_sorted[:100]\n",
        "  features.extend(row_top)\n",
        "\n",
        "selected_feature = np.unique(features)\n"
      ],
      "metadata": {
        "id": "5nJibJBPiIB9"
      },
      "execution_count": 94,
      "outputs": []
    },
    {
      "cell_type": "markdown",
      "source": [
        "## 2. multiclass regresssion"
      ],
      "metadata": {
        "id": "mp0ouj2C2XIQ"
      }
    },
    {
      "cell_type": "code",
      "source": [
        "\n",
        "from sklearn import model_selection\n",
        "from matplotlib import pyplot as plt\n",
        "from sklearn import preprocessing\n",
        "import random\n",
        "random.seed(551)"
      ],
      "metadata": {
        "id": "j93FORXT_q9E"
      },
      "execution_count": 95,
      "outputs": []
    },
    {
      "cell_type": "code",
      "source": [
        "class Multinomial_logistic:\n",
        "    def __init__(self, nFeatures, nClasses):\n",
        "        self.W = np.random.rand(nFeatures, nClasses)\n",
        "\n",
        "    def predict(self, X):\n",
        "        y_pred = np.exp(np.matmul(X, self.W))\n",
        "        return y_pred / y_pred.sum(axis=1).reshape(X.shape[0], 1)\n",
        "\n",
        "    def grad(self, X, y):\n",
        "        return np.matmul(X.transpose(), self.predict(X) - y)\n",
        "\n",
        "    def ce(self, X, y):\n",
        "        return -np.sum(y * np.log(self.predict(X)))\n",
        "\n",
        "    # modify it to add stopping criteria (what can you think of?)\n",
        "    def fit(self, X, y, X_valid=None, y_valid=None, lr=0.0045, niter=100):\n",
        "        self.lr = lr\n",
        "        losses_train = np.zeros(niter)\n",
        "        losses_valid = np.zeros(niter)\n",
        "        for i in range(niter):\n",
        "            self.W = self.W - lr * self.grad(X, y)\n",
        "            loss_train = self.ce(X, y)\n",
        "            losses_train[i] = loss_train\n",
        "            if X_valid is not None and y_valid is not None:\n",
        "                loss_valid = self.ce(X_valid, y_valid)\n",
        "                losses_valid[i] = loss_valid\n",
        "                #print(f\"iter {i}: {loss_train:.3f}; {loss_valid:.3f}\")\n",
        "            \n",
        "            #else:\n",
        "                #print(f\"iter {i}: {loss_train:.3f}\")\n",
        "        return losses_train, losses_valid\n",
        "\n",
        "    def check_grad(self, X, y):\n",
        "        N, C = y.shape\n",
        "        D = X.shape[1]\n",
        "\n",
        "        diff = np.zeros((D, C))\n",
        "\n",
        "        W = self.W.copy()\n",
        "\n",
        "        for i in range(D):\n",
        "            for j in range(C):\n",
        "                epsilon = np.zeros((D, C))\n",
        "                epsilon[i, j] = np.random.rand() * 1e-4\n",
        "\n",
        "                self.W = self.W + epsilon\n",
        "                J1 = self.ce(X, y)\n",
        "                self.W = W\n",
        "\n",
        "                self.W = self.W - epsilon\n",
        "                J2 = self.ce(X, y)\n",
        "                self.W = W\n",
        "\n",
        "                numeric_grad = (J1 - J2) / (2 * epsilon[i, j])\n",
        "                derived_grad = self.grad(X, y)[i, j]\n",
        "\n",
        "                diff[i, j] = np.square(derived_grad - numeric_grad).sum() / \\\n",
        "                             np.square(derived_grad + numeric_grad).sum()\n",
        "\n",
        "        # print(diff)\n",
        "        return diff.sum()\n",
        "\n",
        "\n",
        "def evaluate(y, y_pred):\n",
        "    accuracy = sum(y_pred.argmax(axis=1) == y.argmax(axis=1))\n",
        "    accuracy = accuracy / y.shape[0]\n",
        "    return accuracy"
      ],
      "metadata": {
        "id": "pUlBpYgHBrZ0"
      },
      "execution_count": 96,
      "outputs": []
    },
    {
      "cell_type": "markdown",
      "source": [
        "Run Experiments"
      ],
      "metadata": {
        "id": "IgZx4PKLKm6J"
      }
    },
    {
      "cell_type": "code",
      "source": [
        "X_train = X_train_counts[:,selected_feature]\n",
        "X_test = X_test_counts[:,selected_feature]\n",
        "\n",
        "N, C = Y_train.shape\n",
        "\n",
        "X_train = np.c_[X_train, np.ones(N)] # add one column to learn the linear intercept\n",
        "\n",
        "X_test = np.c_[X_test, np.ones(X_test.shape[0])]\n",
        "\n",
        "D = X_train.shape[1]"
      ],
      "metadata": {
        "id": "mLhe7b5UCA3v"
      },
      "execution_count": 97,
      "outputs": []
    },
    {
      "cell_type": "code",
      "source": [
        "mlr = Multinomial_logistic(D, C)\n",
        "ce_train = mlr.fit(X_train, Y_train, niter=1000)\n",
        "train_accuracy = evaluate(mlr.predict(X_train), Y_train)\n",
        "\n",
        "test_accuracy = evaluate(mlr.predict(X_test), Y_test)\n",
        "\n",
        "print(train_accuracy)\n",
        "print(test_accuracy)"
      ],
      "metadata": {
        "id": "aUbecH5WkVuP",
        "colab": {
          "base_uri": "https://localhost:8080/"
        },
        "outputId": "6f45a7b5-8f2c-4854-a8cd-1c0abbc24f59"
      },
      "execution_count": 98,
      "outputs": [
        {
          "output_type": "stream",
          "name": "stdout",
          "text": [
            "0.850231384097602\n",
            "0.7996207332490518\n"
          ]
        }
      ]
    },
    {
      "cell_type": "code",
      "source": [
        "print(mlr.W)"
      ],
      "metadata": {
        "id": "vLgvtlZhkag0"
      },
      "execution_count": null,
      "outputs": []
    },
    {
      "cell_type": "markdown",
      "source": [
        "###check gradient\n",
        "1. small perturbation"
      ],
      "metadata": {
        "id": "iST1iW2J1fRE"
      }
    },
    {
      "cell_type": "code",
      "source": [
        "# check grad\n",
        "print(mlr.check_grad(X_train, Y_train))"
      ],
      "metadata": {
        "id": "6yXDrfNtQklx",
        "colab": {
          "base_uri": "https://localhost:8080/"
        },
        "outputId": "482a4760-d2b1-4b81-9f57-50e105ea23ec"
      },
      "execution_count": 99,
      "outputs": [
        {
          "output_type": "stream",
          "name": "stdout",
          "text": [
            "2.0008412977688808e-09\n"
          ]
        }
      ]
    },
    {
      "cell_type": "markdown",
      "source": [
        "2. convergence plot"
      ],
      "metadata": {
        "id": "Dc9pXKHm1qHX"
      }
    },
    {
      "cell_type": "code",
      "source": [
        "ce_losses = ce_train[0]\n",
        "# print(ce_losses)\n",
        "plt.plot(range(len(ce_losses)),ce_losses)\n",
        "plt.title('convergence with learning rate = ' + str(mlr.lr))\n",
        "plt.ylabel('cross entropy')\n",
        "plt.xlabel('iteration')\n",
        "plt.show()"
      ],
      "metadata": {
        "id": "1gGUDnez1tAq",
        "colab": {
          "base_uri": "https://localhost:8080/",
          "height": 295
        },
        "outputId": "14ebbe51-9bcb-44fb-8bcb-4c3da0d890a3"
      },
      "execution_count": 100,
      "outputs": [
        {
          "output_type": "display_data",
          "data": {
            "text/plain": [
              "<Figure size 432x288 with 1 Axes>"
            ],
            "image/png": "[encoded data removed]"
          },
          "metadata": {
            "needs_background": "light"
          }
        }
      ]
    },
    {
      "cell_type": "markdown",
      "source": [
        "##plot"
      ],
      "metadata": {
        "id": "qnqQ9dRLzysF"
      }
    },
    {
      "cell_type": "markdown",
      "source": [
        "Compare result with sklearn multiclass model"
      ],
      "metadata": {
        "id": "PfYXF_UQMZFx"
      }
    },
    {
      "cell_type": "code",
      "source": [
        "from sklearn.linear_model import LogisticRegression\n",
        "\n",
        "clf = LogisticRegression(random_state=0).fit(X_train, twenty_train.target)\n",
        "clf\n",
        "clf.score(X_test, twenty_test.target)"
      ],
      "metadata": {
        "id": "mJ4tzqO9JbzR",
        "colab": {
          "base_uri": "https://localhost:8080/"
        },
        "outputId": "3d69b313-249c-45cf-b3a8-e306917a0fe8"
      },
      "execution_count": 101,
      "outputs": [
        {
          "output_type": "execute_result",
          "data": {
            "text/plain": [
              "0.7553729456384324"
            ]
          },
          "metadata": {},
          "execution_count": 101
        }
      ]
    },
    {
      "cell_type": "markdown",
      "source": [
        "HeatMap"
      ],
      "metadata": {
        "id": "z8G-xnN7oC_m"
      }
    },
    {
      "cell_type": "code",
      "source": [
        "from seaborn import heatmap\n",
        "\n",
        "# top 5 most positive features for each class\n",
        "top5_features = []\n",
        "for i in range(0,4):\n",
        "  row = mi[i,:]\n",
        "  row_sorted = np.argsort(row)[::-1]\n",
        "  row_top = row_sorted[:5]\n",
        "  top5_features.extend(row_top)\n",
        "\n",
        "index_in_top100 = []\n",
        "for elt in top5_features:\n",
        "  index_in_top100.append(features.index(elt))\n",
        "\n",
        "W_hat = mlr.W[np.array(index_in_top100)]\n",
        "hmp = heatmap(W_hat, cmap='RdBu_r', center=0)\n",
        "fig = hmp.get_figure()\n",
        "fig.savefig(\"W_hat.png\")\n",
        "\n",
        "#print(top5_features)\n",
        "#top5_features"
      ],
      "metadata": {
        "id": "rHp72uZE6Kya",
        "colab": {
          "base_uri": "https://localhost:8080/",
          "height": 265
        },
        "outputId": "28d86949-f011-4e30-d0d4-1e0a0ab2016c"
      },
      "execution_count": 102,
      "outputs": [
        {
          "output_type": "display_data",
          "data": {
            "text/plain": [
              "<Figure size 432x288 with 2 Axes>"
            ],
            "image/png": "[encoded data removed]"
          },
          "metadata": {
            "needs_background": "light"
          }
        }
      ]
    },
    {
      "cell_type": "markdown",
      "source": [
        " Compare the accuracy on different training size"
      ],
      "metadata": {
        "id": "k4sBeA5_KqY0"
      }
    },
    {
      "cell_type": "code",
      "source": [
        "from sklearn import metrics\n",
        "from sklearn.neighbors import KNeighborsClassifier\n",
        "from sklearn.model_selection import train_test_split\n",
        "from sklearn.metrics import classification_report, confusion_matrix, accuracy_score\n",
        "\n",
        "\n",
        "split_rate = [0.2, 0.4, 0.6, 0.8]\n",
        "multiclass_list = []\n",
        "KNN_list = []\n",
        "\n",
        "\n",
        "for i in split_rate:\n",
        "  AUROC_X_train, AUROC_X_test, AUROC_y_train, AUROC_y_test = train_test_split(X_train, Y_train, train_size=i, test_size=1-i)\n",
        "  N, C = AUROC_y_train.shape\n",
        "  mlr = Multinomial_logistic(D, C)\n",
        "  ce_train = mlr.fit(AUROC_X_train, AUROC_y_train, niter=1000)\n",
        "  print(\"training size: \" + str(i) + \"\\n number of x uses \")\n",
        "  print(AUROC_X_train.shape[0])\n",
        "  accuracy = evaluate(mlr.predict(X_test), Y_test)\n",
        "  print(\"accuracy: \"+ str(accuracy))\n",
        "  multiclass_list.append(accuracy)\n",
        "\n",
        "Y_train_knn = twenty_train.target\n",
        "Y_test_knn = twenty_test.target\n",
        "\n",
        "for j in split_rate:\n",
        "\n",
        "  AUROC_X_train, AUROC_X_test, AUROC_y_train, AUROC_y_test = train_test_split(X_train, Y_train_knn, train_size=j, test_size=1-j)\n",
        "  knn = KNeighborsClassifier(n_neighbors=3)\n",
        "  knn.fit(AUROC_X_train, AUROC_y_train)\n",
        "\n",
        "  y_pred = knn.predict(X_test)\n",
        "\n",
        "  KNN_list.append(accuracy_score(Y_test_knn, y_pred))\n",
        "\n",
        "# train size = 1.0\n",
        "split_rate.append(1.0)\n",
        "mlr = Multinomial_logistic(D, C)\n",
        "ce_train = mlr.fit(X_train, Y_train, niter=1000)\n",
        "multiclass_list.append(evaluate(mlr.predict(X_test), Y_test))\n",
        "\n",
        "knn = KNeighborsClassifier(n_neighbors=3)\n",
        "knn.fit(X_train, Y_train_knn)\n",
        "y_pred = knn.predict(X_test)\n",
        "KNN_list.append(accuracy_score(Y_test_knn, y_pred))\n",
        "\n"
      ],
      "metadata": {
        "id": "-bLCts6UMEfw",
        "colab": {
          "base_uri": "https://localhost:8080/"
        },
        "outputId": "f5b5d7eb-4816-47ad-c457-ae21724966d2"
      },
      "execution_count": 103,
      "outputs": [
        {
          "output_type": "stream",
          "name": "stdout",
          "text": [
            "training size: 0.2\n",
            " number of x uses \n",
            "475\n",
            "accuracy: 0.7579013906447535\n",
            "training size: 0.4\n",
            " number of x uses \n",
            "950\n",
            "accuracy: 0.7914032869785083\n",
            "training size: 0.6\n",
            " number of x uses \n",
            "1426\n",
            "accuracy: 0.7882427307206068\n",
            "training size: 0.8\n",
            " number of x uses \n",
            "1901\n",
            "accuracy: 0.7869785082174463\n"
          ]
        }
      ]
    },
    {
      "cell_type": "code",
      "source": [
        "import numpy as np\n",
        "import matplotlib.pyplot as plt\n",
        "\n",
        "# set width of bar\n",
        "barWidth = 0.25\n",
        "fig = plt.subplots(figsize =(12, 8))\n",
        " \n",
        " \n",
        "# Set position of bar on X axis\n",
        "br1 = np.arange(len(split_rate))\n",
        "br2 = [x + barWidth for x in br1]\n",
        " \n",
        "# Make the plot\n",
        "plt.bar(br1, multiclass_list, color ='r', width = barWidth,\n",
        "        edgecolor ='grey', label ='multiclass')\n",
        "plt.bar(br2, KNN_list, color ='g', width = barWidth,\n",
        "        edgecolor ='grey', label ='knn')\n",
        " \n",
        "# Adding Xticks\n",
        "plt.xlabel('training size', fontweight ='bold', fontsize = 15)\n",
        "plt.ylabel('accuracy', fontweight ='bold', fontsize = 15)\n",
        "plt.xticks([r + barWidth for r in range(len(split_rate))],\n",
        "        ['0.2', '0.4', '0.6', '0.8', '1.0'])\n",
        " \n",
        "plt.legend()\n",
        "plt.show()"
      ],
      "metadata": {
        "id": "squsRLrNo6ZQ",
        "colab": {
          "base_uri": "https://localhost:8080/",
          "height": 502
        },
        "outputId": "866debfa-ede3-42dd-b986-de9ecc1f4fac"
      },
      "execution_count": 104,
      "outputs": [
        {
          "output_type": "display_data",
          "data": {
            "text/plain": [
              "<Figure size 864x576 with 1 Axes>"
            ],
            "image/png": "[encoded data removed]"
          },
          "metadata": {
            "needs_background": "light"
          }
        }
      ]
    }
  ]
}
